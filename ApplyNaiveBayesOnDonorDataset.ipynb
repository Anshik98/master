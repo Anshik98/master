{
 "cells": [
  {
   "cell_type": "markdown",
   "metadata": {
    "id": "Dnubs-Nnb3cw"
   },
   "source": [
    "# Assignment 6: Apply NB"
   ]
  },
  {
   "cell_type": "markdown",
   "metadata": {
    "id": "RW0zYHb5m_wI"
   },
   "source": [
    "<ol>\n",
    "    <li>Minimum data points need to be considered for people having 4GB RAM is <strong>50k</strong> and for 8GB RAM is <strong>100k</strong></li>\n",
    "    <li>When you are using ramdomsearchcv or gridsearchcv you need not split the data into X_train,X_cv,X_test. As the above methods use kfold. The model will learn better if train data is more so splitting to X_train,X_test will suffice.</li>\n",
    "    <li>If you are writing for loops to tune your model then you need split the data into X_train,X_cv,X_test.</li>\n",
    "    <li>While splitting the data explore stratify parameter. </li>\n",
    "    <li><strong>Apply Multinomial NB on these feature sets</strong></li>\n",
    "        <ul>\n",
    "            <li>Features that need to be considered</li> \n",
    "                <dl>\n",
    "                  <dt>essay</dt>\n",
    "                    <dd>while encoding essay, try to experiment with the max_features and n_grams parameter of vectorizers and see if it increases AUC score.</dd>\n",
    "                  <dt>categorical features</dt>\n",
    "                  <dd> - teacher_prefix</dd>\n",
    "                  <dd> - project_grade_category</dd>\n",
    "                  <dd> - school_state</dd>\n",
    "                  <dd> - clean_categories</dd>\n",
    "                  <dd> - clean_subcategories</dd>\n",
    "                  <dt>numerical features</dt>\n",
    "                  <dd> - price</dd>\n",
    "                  <dd> - teacher_number_of_previously_posted_projects</dd>\n",
    "                  <dd>while encoding the numerical features check <a href='https://imgur.com/ldZA1zg'>this</a> and <a href='https://ac-classroom-production.s3.amazonaws.com/public/COMMENT/Annotation_2020-05-21_225912_0lyZzN8.jpg'>this</a></dd>\n",
    "                </dl>    \n",
    "            <li><font color='red'>Set 1</font>: categorical, numerical features + preprocessed_eassay (BOW)</li>\n",
    "            <li><font color='red'>Set 2</font>: categorical, numerical features + preprocessed_eassay (TFIDF)</li>\n",
    "        </ul>\n",
    "    <li><strong>The hyper paramter tuning(find best alpha:smoothing parameter)</strong>\n",
    "        <ul>\n",
    "    <li>Consider alpha values in range: 10^-5 to 10^2 like [0.00001,0.0005, 0.0001,0.005,0.001,0.05,0.01,0.1,0.5,1,5,10,50,100]</li>\n",
    "    <li>Explore class_prior = [0.5, 0.5] parameter which can be present in MultinomialNB function(go through <a href='https://scikit-learn.org/stable/modules/generated/sklearn.naive_bayes.MultinomialNB.html'>this</a> ) then check how results might change.\n",
    "    <li>Find the best hyper parameter which will give the maximum <a href='https://www.appliedaicourse.com/course/applied-ai-course-online/lessons/receiver-operating-characteristic-curve-roc-curve-and-auc-1/'>AUC</a> value</li>\n",
    "    <li>For hyper parameter tuning using k-fold cross validation(use GridsearchCV or RandomsearchCV)/simple cross validation data (write for loop to iterate over hyper parameter values)</li>\n",
    "    <li>You need to plot the performance of model both on train data and cross validation data for each hyper parameter, like shown in the figure\n",
    "    <img src='https://i.imgur.com/hUv6aEy.jpg' width=300px><dd>-while plotting take log(alpha) on your X-axis so that it will be more readable</dd></li>\n",
    "    <li>Once after you found the best hyper parameter, you need to train your model with it, and find the AUC on test data and plot the ROC curve on both train and test.\n",
    "    <img src='https://imgur.com/q2P65L5.jpg' width=300px></li>\n",
    "    <li>Along with plotting ROC curve, you need to print the <a href='https://www.appliedaicourse.com/course/applied-ai-course-online/lessons/confusion-matrix-tpr-fpr-fnr-tnr-1/'>confusion matrix</a> with predicted and original labels of test data points\n",
    "        <img src='https://i.imgur.com/IdN5Ctv.png' width=300px><dd>-plot the confusion matrix in heatmaps, while plotting the confusion matrix go through the <a href='https://stackoverflow.com/questions/61748441/how-to-fix-the-values-displayed-in-a-confusion-matrix-in-exponential-form-to-nor'>link </a>\n",
    "</dd></li>\n",
    "        </ul>\n",
    "<li>find the top 20 features from either from feature <font color='red'>Set 1</font> or feature <font color='red'>Set 2</font> using values of `feature_log_prob_ ` parameter of `MultinomialNB` \n",
    "(https://scikit-learn.org/stable/modules/generated/sklearn.naive_bayes.MultinomialNB.html) and print <strong>BOTH</strong> positive as well as negative corresponding feature names. <dd> - go through the <a href='https://imgur.com/mWvE7gj'>link </a> </dd>\n",
    "    </li>\n",
    "    <li>You need to summarize the results at the end of the notebook, summarize it in the table format\n",
    "        <img src='http://i.imgur.com/YVpIGGE.jpg' width=400px>\n",
    "    </li>\n",
    "</ol>"
   ]
  },
  {
   "cell_type": "markdown",
   "metadata": {
    "id": "chpSjDaXm9KG"
   },
   "source": [
    "## The Procedure:\n",
    "We already have the preprocessed data but in it some features are numerical, categorical and some are textual. \n",
    "Categorical features are to be one hot encoded.\n",
    "Numerical features are to be normalized.\n",
    "Textual features are to be converted into vectors either by following the BOW (CountVectorizer) or tfidf (TfidfVectorizer)\n",
    "\n",
    "Now your data is all in numerical form, which the machine can read. The model is ready to be trained. \n",
    "\n",
    "Now classification models that we are using for this task is Naive Bayes, for which the hyperparameter is alpha. \n",
    "\n",
    "I will be referencig the following link to run my tfidf model: https://medium.com/analytics-vidhya/how-to-improve-naive-bayes-9fa698e14cba"
   ]
  },
  {
   "cell_type": "markdown",
   "metadata": {
    "id": "inzYCIaib3c3"
   },
   "source": [
    "<h1>2. Naive Bayes </h1>"
   ]
  },
  {
   "cell_type": "markdown",
   "metadata": {
    "id": "FYqCIxzFb3c5"
   },
   "source": [
    "## 1.1 Loading Data"
   ]
  },
  {
   "cell_type": "code",
   "execution_count": 1,
   "metadata": {
    "id": "dA1jknyqb3c_"
   },
   "outputs": [
    {
     "data": {
      "text/html": [
       "<div>\n",
       "<style scoped>\n",
       "    .dataframe tbody tr th:only-of-type {\n",
       "        vertical-align: middle;\n",
       "    }\n",
       "\n",
       "    .dataframe tbody tr th {\n",
       "        vertical-align: top;\n",
       "    }\n",
       "\n",
       "    .dataframe thead th {\n",
       "        text-align: right;\n",
       "    }\n",
       "</style>\n",
       "<table border=\"1\" class=\"dataframe\">\n",
       "  <thead>\n",
       "    <tr style=\"text-align: right;\">\n",
       "      <th></th>\n",
       "      <th>school_state</th>\n",
       "      <th>teacher_prefix</th>\n",
       "      <th>project_grade_category</th>\n",
       "      <th>teacher_number_of_previously_posted_projects</th>\n",
       "      <th>project_is_approved</th>\n",
       "      <th>clean_categories</th>\n",
       "      <th>clean_subcategories</th>\n",
       "      <th>essay</th>\n",
       "      <th>price</th>\n",
       "    </tr>\n",
       "  </thead>\n",
       "  <tbody>\n",
       "    <tr>\n",
       "      <th>0</th>\n",
       "      <td>ca</td>\n",
       "      <td>mrs</td>\n",
       "      <td>grades_prek_2</td>\n",
       "      <td>53</td>\n",
       "      <td>1</td>\n",
       "      <td>math_science</td>\n",
       "      <td>appliedsciences health_lifescience</td>\n",
       "      <td>i fortunate enough use fairy tale stem kits cl...</td>\n",
       "      <td>725.05</td>\n",
       "    </tr>\n",
       "    <tr>\n",
       "      <th>1</th>\n",
       "      <td>ut</td>\n",
       "      <td>ms</td>\n",
       "      <td>grades_3_5</td>\n",
       "      <td>4</td>\n",
       "      <td>1</td>\n",
       "      <td>specialneeds</td>\n",
       "      <td>specialneeds</td>\n",
       "      <td>imagine 8 9 years old you third grade classroo...</td>\n",
       "      <td>213.03</td>\n",
       "    </tr>\n",
       "    <tr>\n",
       "      <th>2</th>\n",
       "      <td>ca</td>\n",
       "      <td>mrs</td>\n",
       "      <td>grades_prek_2</td>\n",
       "      <td>10</td>\n",
       "      <td>1</td>\n",
       "      <td>literacy_language</td>\n",
       "      <td>literacy</td>\n",
       "      <td>having class 24 students comes diverse learner...</td>\n",
       "      <td>329.00</td>\n",
       "    </tr>\n",
       "    <tr>\n",
       "      <th>3</th>\n",
       "      <td>ga</td>\n",
       "      <td>mrs</td>\n",
       "      <td>grades_prek_2</td>\n",
       "      <td>2</td>\n",
       "      <td>1</td>\n",
       "      <td>appliedlearning</td>\n",
       "      <td>earlydevelopment</td>\n",
       "      <td>i recently read article giving students choice...</td>\n",
       "      <td>481.04</td>\n",
       "    </tr>\n",
       "    <tr>\n",
       "      <th>4</th>\n",
       "      <td>wa</td>\n",
       "      <td>mrs</td>\n",
       "      <td>grades_3_5</td>\n",
       "      <td>2</td>\n",
       "      <td>1</td>\n",
       "      <td>literacy_language</td>\n",
       "      <td>literacy</td>\n",
       "      <td>my students crave challenge eat obstacles brea...</td>\n",
       "      <td>17.74</td>\n",
       "    </tr>\n",
       "  </tbody>\n",
       "</table>\n",
       "</div>"
      ],
      "text/plain": [
       "  school_state teacher_prefix project_grade_category  \\\n",
       "0           ca            mrs          grades_prek_2   \n",
       "1           ut             ms             grades_3_5   \n",
       "2           ca            mrs          grades_prek_2   \n",
       "3           ga            mrs          grades_prek_2   \n",
       "4           wa            mrs             grades_3_5   \n",
       "\n",
       "   teacher_number_of_previously_posted_projects  project_is_approved  \\\n",
       "0                                            53                    1   \n",
       "1                                             4                    1   \n",
       "2                                            10                    1   \n",
       "3                                             2                    1   \n",
       "4                                             2                    1   \n",
       "\n",
       "    clean_categories                 clean_subcategories  \\\n",
       "0       math_science  appliedsciences health_lifescience   \n",
       "1       specialneeds                        specialneeds   \n",
       "2  literacy_language                            literacy   \n",
       "3    appliedlearning                    earlydevelopment   \n",
       "4  literacy_language                            literacy   \n",
       "\n",
       "                                               essay   price  \n",
       "0  i fortunate enough use fairy tale stem kits cl...  725.05  \n",
       "1  imagine 8 9 years old you third grade classroo...  213.03  \n",
       "2  having class 24 students comes diverse learner...  329.00  \n",
       "3  i recently read article giving students choice...  481.04  \n",
       "4  my students crave challenge eat obstacles brea...   17.74  "
      ]
     },
     "execution_count": 1,
     "metadata": {},
     "output_type": "execute_result"
    }
   ],
   "source": [
    "import pandas as pd\n",
    "data = pd.read_csv(r\"C:\\Users\\anshi\\Downloads\\preprocessed_data.csv\", nrows=50000)\n",
    "data.head()"
   ]
  },
  {
   "cell_type": "code",
   "execution_count": 2,
   "metadata": {
    "scrolled": true
   },
   "outputs": [
    {
     "data": {
      "text/plain": [
       "Index(['school_state', 'teacher_prefix', 'project_grade_category',\n",
       "       'teacher_number_of_previously_posted_projects', 'project_is_approved',\n",
       "       'clean_categories', 'clean_subcategories', 'essay', 'price'],\n",
       "      dtype='object')"
      ]
     },
     "execution_count": 2,
     "metadata": {},
     "output_type": "execute_result"
    }
   ],
   "source": [
    "data.columns"
   ]
  },
  {
   "cell_type": "code",
   "execution_count": 3,
   "metadata": {},
   "outputs": [
    {
     "data": {
      "text/html": [
       "<div>\n",
       "<style scoped>\n",
       "    .dataframe tbody tr th:only-of-type {\n",
       "        vertical-align: middle;\n",
       "    }\n",
       "\n",
       "    .dataframe tbody tr th {\n",
       "        vertical-align: top;\n",
       "    }\n",
       "\n",
       "    .dataframe thead th {\n",
       "        text-align: right;\n",
       "    }\n",
       "</style>\n",
       "<table border=\"1\" class=\"dataframe\">\n",
       "  <thead>\n",
       "    <tr style=\"text-align: right;\">\n",
       "      <th></th>\n",
       "      <th>school_state</th>\n",
       "      <th>teacher_prefix</th>\n",
       "      <th>project_grade_category</th>\n",
       "      <th>teacher_number_of_previously_posted_projects</th>\n",
       "      <th>clean_categories</th>\n",
       "      <th>clean_subcategories</th>\n",
       "      <th>essay</th>\n",
       "      <th>price</th>\n",
       "    </tr>\n",
       "  </thead>\n",
       "  <tbody>\n",
       "    <tr>\n",
       "      <th>0</th>\n",
       "      <td>ca</td>\n",
       "      <td>mrs</td>\n",
       "      <td>grades_prek_2</td>\n",
       "      <td>53</td>\n",
       "      <td>math_science</td>\n",
       "      <td>appliedsciences health_lifescience</td>\n",
       "      <td>i fortunate enough use fairy tale stem kits cl...</td>\n",
       "      <td>725.05</td>\n",
       "    </tr>\n",
       "  </tbody>\n",
       "</table>\n",
       "</div>"
      ],
      "text/plain": [
       "  school_state teacher_prefix project_grade_category  \\\n",
       "0           ca            mrs          grades_prek_2   \n",
       "\n",
       "   teacher_number_of_previously_posted_projects clean_categories  \\\n",
       "0                                            53     math_science   \n",
       "\n",
       "                  clean_subcategories  \\\n",
       "0  appliedsciences health_lifescience   \n",
       "\n",
       "                                               essay   price  \n",
       "0  i fortunate enough use fairy tale stem kits cl...  725.05  "
      ]
     },
     "execution_count": 3,
     "metadata": {},
     "output_type": "execute_result"
    }
   ],
   "source": [
    "y = data['project_is_approved'].values\n",
    "X = data.drop(['project_is_approved'], axis=1)\n",
    "X.head(1)"
   ]
  },
  {
   "cell_type": "markdown",
   "metadata": {
    "id": "WtVV13Fyb3dH"
   },
   "source": [
    "### BOW\n",
    "<h2>1.2 Splitting data into Train and cross validation(or test): Stratified Sampling</h2>"
   ]
  },
  {
   "cell_type": "code",
   "execution_count": 4,
   "metadata": {
    "id": "i-PyprDNb3dI"
   },
   "outputs": [],
   "source": [
    "# train test split\n",
    "from sklearn.model_selection import train_test_split\n",
    "X_train, X_test, y_train, y_test = train_test_split(X, y, test_size=0.33, stratify=y)\n",
    "X_train, X_cv, y_train, y_cv = train_test_split(X_train, y_train, test_size=0.33, stratify=y_train)\n",
    "bow_features=[]"
   ]
  },
  {
   "cell_type": "markdown",
   "metadata": {
    "id": "EnZwVNULb3dO"
   },
   "source": [
    "### BOW\n",
    "<h2>1.3 Make Data Model Ready: encoding essay, and project_title</h2>"
   ]
  },
  {
   "cell_type": "code",
   "execution_count": 5,
   "metadata": {
    "id": "-SczZKiab3dR"
   },
   "outputs": [
    {
     "name": "stdout",
     "output_type": "stream",
     "text": [
      "(22445, 8) (22445,)\n",
      "(11055, 8) (11055,)\n",
      "(16500, 8) (16500,)\n",
      "====================================================================================================\n",
      "After vectorizations\n",
      "(22445, 5000) (22445,)\n",
      "(11055, 5000) (11055,)\n",
      "(16500, 5000) (16500,)\n",
      "====================================================================================================\n",
      "5000\n"
     ]
    }
   ],
   "source": [
    "from sklearn.feature_extraction.text import CountVectorizer\n",
    "\n",
    "print(X_train.shape, y_train.shape)\n",
    "print(X_cv.shape, y_cv.shape)\n",
    "print(X_test.shape, y_test.shape)\n",
    "print(\"=\"*100)\n",
    "\n",
    "vectorizer = CountVectorizer(min_df=10,ngram_range=(1,4), max_features=5000)\n",
    "vectorizer.fit(X_train['essay'].values)\n",
    "\n",
    "X_train_essay_bow = vectorizer.transform(X_train['essay'].values)\n",
    "X_cv_essay_bow = vectorizer.transform(X_cv['essay'].values)\n",
    "X_test_essay_bow = vectorizer.transform(X_test['essay'].values)\n",
    "\n",
    "print(\"After vectorizations\")\n",
    "print(X_train_essay_bow.shape, y_train.shape)\n",
    "print(X_cv_essay_bow.shape, y_cv.shape)\n",
    "print(X_test_essay_bow.shape, y_test.shape)\n",
    "print(\"=\"*100)\n",
    "for i in vectorizer.get_feature_names():\n",
    "    bow_features.append(i)\n",
    "print(len(bow_features))"
   ]
  },
  {
   "cell_type": "markdown",
   "metadata": {
    "id": "bGy86kgHb3dX"
   },
   "source": [
    "<h2>1.4 Make Data Model Ready: encoding numerical, categorical features</h2>"
   ]
  },
  {
   "cell_type": "code",
   "execution_count": 6,
   "metadata": {
    "id": "EfXkofX1b3da"
   },
   "outputs": [
    {
     "name": "stdout",
     "output_type": "stream",
     "text": [
      "After vectorizations\n",
      "(22445, 51) (22445,)\n",
      "(11055, 51) (11055,)\n",
      "(16500, 51) (16500,)\n",
      "['ak', 'al', 'ar', 'az', 'ca', 'co', 'ct', 'dc', 'de', 'fl', 'ga', 'hi', 'ia', 'id', 'il', 'in', 'ks', 'ky', 'la', 'ma', 'md', 'me', 'mi', 'mn', 'mo', 'ms', 'mt', 'nc', 'nd', 'ne', 'nh', 'nj', 'nm', 'nv', 'ny', 'oh', 'ok', 'or', 'pa', 'ri', 'sc', 'sd', 'tn', 'tx', 'ut', 'va', 'vt', 'wa', 'wi', 'wv', 'wy']\n",
      "====================================================================================================\n",
      "5051\n"
     ]
    }
   ],
   "source": [
    "vectorizer = CountVectorizer()\n",
    "vectorizer.fit(X_train['school_state'].values) # fit has to happen only on train data\n",
    "\n",
    "# we use the fitted CountVectorizer to convert the text to vector\n",
    "X_train_state_ohe = vectorizer.transform(X_train['school_state'].values)\n",
    "X_cv_state_ohe = vectorizer.transform(X_cv['school_state'].values)\n",
    "X_test_state_ohe = vectorizer.transform(X_test['school_state'].values)\n",
    "\n",
    "print(\"After vectorizations\")\n",
    "print(X_train_state_ohe.shape, y_train.shape)\n",
    "print(X_cv_state_ohe.shape, y_cv.shape)\n",
    "print(X_test_state_ohe.shape, y_test.shape)\n",
    "print(vectorizer.get_feature_names())\n",
    "print(\"=\"*100)\n",
    "for i in vectorizer.get_feature_names():\n",
    "    bow_features.append(i)\n",
    "print(len(bow_features))"
   ]
  },
  {
   "cell_type": "code",
   "execution_count": 7,
   "metadata": {},
   "outputs": [
    {
     "name": "stdout",
     "output_type": "stream",
     "text": [
      "After vectorizations\n",
      "(22445, 5) (22445,)\n",
      "(11055, 5) (11055,)\n",
      "(16500, 5) (16500,)\n",
      "['dr', 'mr', 'mrs', 'ms', 'teacher']\n",
      "====================================================================================================\n",
      "5056\n"
     ]
    }
   ],
   "source": [
    "vectorizer = CountVectorizer()\n",
    "vectorizer.fit(X_train['teacher_prefix'].values) # fit has to happen only on train data\n",
    "\n",
    "# we use the fitted CountVectorizer to convert the text to vector\n",
    "X_train_teacher_ohe = vectorizer.transform(X_train['teacher_prefix'].values)\n",
    "X_cv_teacher_ohe = vectorizer.transform(X_cv['teacher_prefix'].values)\n",
    "X_test_teacher_ohe = vectorizer.transform(X_test['teacher_prefix'].values)\n",
    "\n",
    "print(\"After vectorizations\")\n",
    "print(X_train_teacher_ohe.shape, y_train.shape)\n",
    "print(X_cv_teacher_ohe.shape, y_cv.shape)\n",
    "print(X_test_teacher_ohe.shape, y_test.shape)\n",
    "print(vectorizer.get_feature_names())\n",
    "print(\"=\"*100)\n",
    "for i in vectorizer.get_feature_names():\n",
    "    bow_features.append(i)\n",
    "print(len(bow_features))"
   ]
  },
  {
   "cell_type": "code",
   "execution_count": 8,
   "metadata": {
    "scrolled": true
   },
   "outputs": [
    {
     "name": "stdout",
     "output_type": "stream",
     "text": [
      "After vectorizations\n",
      "(22445, 4) (22445,)\n",
      "(11055, 4) (11055,)\n",
      "(16500, 4) (16500,)\n",
      "['grades_3_5', 'grades_6_8', 'grades_9_12', 'grades_prek_2']\n",
      "====================================================================================================\n",
      "5060\n"
     ]
    }
   ],
   "source": [
    "vectorizer = CountVectorizer()\n",
    "vectorizer.fit(X_train['project_grade_category'].values) # fit has to happen only on train data\n",
    "\n",
    "# we use the fitted CountVectorizer to convert the text to vector\n",
    "X_train_grade_ohe = vectorizer.transform(X_train['project_grade_category'].values)\n",
    "X_cv_grade_ohe = vectorizer.transform(X_cv['project_grade_category'].values)\n",
    "X_test_grade_ohe = vectorizer.transform(X_test['project_grade_category'].values)\n",
    "\n",
    "print(\"After vectorizations\")\n",
    "print(X_train_grade_ohe.shape, y_train.shape)\n",
    "print(X_cv_grade_ohe.shape, y_cv.shape)\n",
    "print(X_test_grade_ohe.shape, y_test.shape)\n",
    "print(vectorizer.get_feature_names())\n",
    "print(\"=\"*100)\n",
    "for i in vectorizer.get_feature_names():\n",
    "    bow_features.append(i)\n",
    "print(len(bow_features))"
   ]
  },
  {
   "cell_type": "code",
   "execution_count": 9,
   "metadata": {},
   "outputs": [
    {
     "name": "stdout",
     "output_type": "stream",
     "text": [
      "After vectorizations\n",
      "(22445, 1) (22445,)\n",
      "(11055, 1) (11055,)\n",
      "(16500, 1) (16500,)\n",
      "====================================================================================================\n"
     ]
    }
   ],
   "source": [
    "from sklearn.preprocessing import Normalizer\n",
    "normalizer = Normalizer()\n",
    "normalizer.fit(X_train['price'].values.reshape(-1,1))\n",
    "\n",
    "X_train_price_norm = normalizer.transform(X_train['price'].values.reshape(-1,1))\n",
    "X_cv_price_norm = normalizer.transform(X_cv['price'].values.reshape(-1,1))\n",
    "X_test_price_norm = normalizer.transform(X_test['price'].values.reshape(-1,1))\n",
    "\n",
    "\n",
    "\n",
    "print(\"After vectorizations\")\n",
    "print(X_train_price_norm.shape, y_train.shape)\n",
    "print(X_cv_price_norm.shape, y_cv.shape)\n",
    "print(X_test_price_norm.shape, y_test.shape)\n",
    "print(\"=\"*100)\n"
   ]
  },
  {
   "cell_type": "code",
   "execution_count": 10,
   "metadata": {},
   "outputs": [
    {
     "name": "stdout",
     "output_type": "stream",
     "text": [
      "5061\n"
     ]
    }
   ],
   "source": [
    "bow_features.append(\"price\")\n",
    "print(len(bow_features))"
   ]
  },
  {
   "cell_type": "code",
   "execution_count": 11,
   "metadata": {},
   "outputs": [
    {
     "name": "stdout",
     "output_type": "stream",
     "text": [
      "After vectorizations\n",
      "(22445, 1) (22445,)\n",
      "(11055, 1) (11055,)\n",
      "(16500, 1) (16500,)\n",
      "====================================================================================================\n"
     ]
    }
   ],
   "source": [
    "from sklearn.preprocessing import Normalizer\n",
    "normalizer = Normalizer()\n",
    "normalizer.fit(X_train['teacher_number_of_previously_posted_projects'].values.reshape(-1,1))\n",
    "\n",
    "X_train_projectcount_norm = normalizer.transform(X_train['teacher_number_of_previously_posted_projects'].values.reshape(-1,1))\n",
    "X_cv_projectcount_norm = normalizer.transform(X_cv['teacher_number_of_previously_posted_projects'].values.reshape(-1,1))\n",
    "X_test_projectcount_norm = normalizer.transform(X_test['teacher_number_of_previously_posted_projects'].values.reshape(-1,1))\n",
    "\n",
    "\n",
    "\n",
    "print(\"After vectorizations\")\n",
    "print(X_train_projectcount_norm.shape, y_train.shape)\n",
    "print(X_cv_projectcount_norm.shape, y_cv.shape)\n",
    "print(X_test_projectcount_norm.shape, y_test.shape)\n",
    "print(\"=\"*100)"
   ]
  },
  {
   "cell_type": "code",
   "execution_count": 12,
   "metadata": {},
   "outputs": [
    {
     "name": "stdout",
     "output_type": "stream",
     "text": [
      "5062\n"
     ]
    }
   ],
   "source": [
    "bow_features.append(\"teacher_number_of_previously_posted_projects\")\n",
    "print(len(bow_features))"
   ]
  },
  {
   "cell_type": "code",
   "execution_count": 13,
   "metadata": {},
   "outputs": [
    {
     "data": {
      "text/plain": [
       "5062"
      ]
     },
     "execution_count": 13,
     "metadata": {},
     "output_type": "execute_result"
    }
   ],
   "source": [
    "len(bow_features)"
   ]
  },
  {
   "cell_type": "code",
   "execution_count": 14,
   "metadata": {
    "scrolled": true
   },
   "outputs": [
    {
     "name": "stdout",
     "output_type": "stream",
     "text": [
      "Final Data matrix\n",
      "(22445, 5062) (22445,)\n",
      "(11055, 5062) (11055,)\n",
      "(16500, 5062) (16500,)\n",
      "====================================================================================================\n"
     ]
    }
   ],
   "source": [
    "# merge two sparse matrices: https://stackoverflow.com/a/19710648/4084039\n",
    "from scipy.sparse import hstack\n",
    "X_tr = hstack((X_train_essay_bow, X_train_state_ohe, X_train_teacher_ohe, X_train_grade_ohe, X_train_price_norm,X_train_projectcount_norm)).tocsr()\n",
    "X_cr = hstack((X_cv_essay_bow, X_cv_state_ohe, X_cv_teacher_ohe, X_cv_grade_ohe, X_cv_price_norm,X_cv_projectcount_norm)).tocsr()\n",
    "X_te = hstack((X_test_essay_bow, X_test_state_ohe, X_test_teacher_ohe, X_test_grade_ohe, X_test_price_norm,X_test_projectcount_norm)).tocsr()\n",
    "\n",
    "print(\"Final Data matrix\")\n",
    "print(X_tr.shape, y_train.shape)\n",
    "print(X_cr.shape, y_cv.shape)\n",
    "print(X_te.shape, y_test.shape)\n",
    "print(\"=\"*100)"
   ]
  },
  {
   "cell_type": "markdown",
   "metadata": {
    "id": "yYHPYadYb3dh"
   },
   "source": [
    "<h2>1.5 Appling NB on different kind of featurization as mentioned in the instructions</h2>\n",
    "\n",
    "<br>Apply NB on different kind of featurization as mentioned in the instructions\n",
    "<br> For Every model that you work on make sure you do the step 2 and step 3 of instrucations"
   ]
  },
  {
   "cell_type": "code",
   "execution_count": 15,
   "metadata": {
    "id": "DNwqilFxb3di",
    "scrolled": false
   },
   "outputs": [
    {
     "name": "stderr",
     "output_type": "stream",
     "text": [
      "100%|██████████| 14/14 [00:00<00:00, 20.95it/s]\n"
     ]
    },
    {
     "data": {
      "image/png": "[encoded data removed]",
      "text/plain": [
       "<Figure size 432x288 with 1 Axes>"
      ]
     },
     "metadata": {
      "needs_background": "light"
     },
     "output_type": "display_data"
    }
   ],
   "source": [
    "import matplotlib.pyplot as plt\n",
    "from sklearn.naive_bayes import MultinomialNB\n",
    "from sklearn.metrics import roc_auc_score\n",
    "import math\n",
    "from tqdm import tqdm\n",
    "\n",
    "train_auc = []\n",
    "cr_auc = [] \n",
    "alpha= [0.00001,0.0005, 0.0001,0.005,0.001,0.05,0.01,0.1,0.5,1,5,10,50,100]\n",
    "\n",
    "for i in tqdm(alpha):\n",
    "    neigh = MultinomialNB(alpha=i,class_prior=[0.5,0.5])\n",
    "    neigh.fit(X_tr, y_train)\n",
    "\n",
    "    y_train_pred = neigh.predict_proba(X_tr)[:,1]    \n",
    "    y_cr_pred = neigh.predict_proba(X_cr)[:,1]    \n",
    "    #roc_auc_score(y_val, y_pred) The roc_auc_score always runs from 0 to 1,\n",
    "    #and is sorting predictive possibilities. 0.5 is the baseline for random guessing, so you want to always get above 0.5.\n",
    "    train_auc.append(roc_auc_score(y_train,y_train_pred))\n",
    "    cr_auc.append(roc_auc_score(y_cv, y_cr_pred))\n",
    "  \n",
    "plt.plot(alpha, train_auc, label='Train AUC')\n",
    "plt.plot(alpha, cr_auc, label='CV AUC')\n",
    "\n",
    "plt.scatter(alpha, train_auc, label='Train AUC points')\n",
    "plt.scatter(alpha, cr_auc, label='CV AUC points')\n",
    "plt.legend()\n",
    "plt.xlabel(\"alphas: hyperparameter\")\n",
    "plt.ylabel(\"AUC\")\n",
    "plt.title(\"ERROR PLOTS\")\n",
    "plt.grid(color='black', linestyle='-', linewidth=0.5)\n",
    "plt.show()"
   ]
  },
  {
   "cell_type": "code",
   "execution_count": 16,
   "metadata": {},
   "outputs": [
    {
     "name": "stdout",
     "output_type": "stream",
     "text": [
      "Now we are considering alpha to be 50, we will validate this by trainig a new model with this value of alpha and check it on test data\n"
     ]
    }
   ],
   "source": [
    "alpha1=50\n",
    "print(\"Now we are considering alpha to be 50, we will validate this by trainig a new model with this value of alpha and check it on test data\")"
   ]
  },
  {
   "cell_type": "code",
   "execution_count": 17,
   "metadata": {},
   "outputs": [
    {
     "data": {
      "image/png": "[encoded data removed]",
      "text/plain": [
       "<Figure size 432x288 with 1 Axes>"
      ]
     },
     "metadata": {
      "needs_background": "light"
     },
     "output_type": "display_data"
    }
   ],
   "source": [
    "from sklearn.metrics import roc_curve, auc\n",
    "\n",
    "neigh = MultinomialNB(alpha=alpha1,class_prior=[0.5,0.5])\n",
    "\n",
    "neigh.fit(X_tr, y_train)\n",
    "\n",
    "y_train_pred = neigh.predict_proba(X_tr)[:,1]     \n",
    "y_test_pred = neigh.predict_proba(X_te)[:,1] \n",
    "\n",
    "train_fpr, train_tpr, tr_thresholds = roc_curve(y_train, y_train_pred)\n",
    "test_fpr, test_tpr, te_thresholds = roc_curve(y_test, y_test_pred)\n",
    "\n",
    "plt.plot(train_fpr, train_tpr, label=\"Train AUC =\"+str(auc(train_fpr, train_tpr)))\n",
    "plt.plot(test_fpr, test_tpr, label=\"Test AUC =\"+str(auc(test_fpr, test_tpr)))\n",
    "plt.legend()\n",
    "plt.xlabel(\"False Positive Rate\")\n",
    "plt.ylabel(\"True Positive Rate\")\n",
    "plt.title(\"AUC ROC Curve \")\n",
    "plt.grid(color='black', linestyle='-', linewidth=1)\n",
    "plt.show()"
   ]
  },
  {
   "cell_type": "code",
   "execution_count": 18,
   "metadata": {},
   "outputs": [],
   "source": [
    "import numpy as np\n",
    "def find_best_threshold(threshould, fpr, tpr):\n",
    "    t = threshould[np.argmax(tpr*(1-fpr))]\n",
    "    # (tpr*(1-fpr)) will be maximum if your fpr is very low and tpr is very high\n",
    "    print(\"the maximum value of tpr*(1-fpr)\", np.round(max(tpr*(1-fpr)),3), \"for threshold\", np.round(t,3))\n",
    "    return t"
   ]
  },
  {
   "cell_type": "code",
   "execution_count": 19,
   "metadata": {},
   "outputs": [],
   "source": [
    "def predict_with_best_t(proba, threshould):\n",
    "    predictions = []\n",
    "    for i in proba:\n",
    "        if i>=threshould:\n",
    "            predictions.append(1)\n",
    "        else:\n",
    "            predictions.append(0)\n",
    "    return predictions"
   ]
  },
  {
   "cell_type": "code",
   "execution_count": 20,
   "metadata": {
    "scrolled": false
   },
   "outputs": [
    {
     "name": "stdout",
     "output_type": "stream",
     "text": [
      "====================================================================================================\n",
      "the maximum value of tpr*(1-fpr) 0.417 for threshold 1.0\n",
      "Threshold 0.9999805683398424\n",
      "Train confusion matrix\n",
      "[[ 2539  1056]\n",
      " [ 7725 11125]]\n",
      "tn, fp, fn, tp = [ 2539  1056  7725 11125]\n",
      "Test confusion matrix\n",
      "[[1690  952]\n",
      " [5830 8028]]\n",
      "tn, fp, fn, tp = [1690  952 5830 8028]\n"
     ]
    }
   ],
   "source": [
    "print(\"=\"*100)\n",
    "from sklearn.metrics import confusion_matrix\n",
    "best_t = find_best_threshold(tr_thresholds, train_fpr, train_tpr)\n",
    "print(\"Threshold\", best_t)\n",
    "print(\"Train confusion matrix\")\n",
    "print(confusion_matrix(y_train, predict_with_best_t(y_train_pred, best_t)))\n",
    "print(\"tn, fp, fn, tp\", \"=\", confusion_matrix(y_train, predict_with_best_t(y_train_pred, best_t)).ravel())\n",
    "print(\"Test confusion matrix\")\n",
    "print(confusion_matrix(y_test, predict_with_best_t(y_test_pred, best_t)))\n",
    "print(\"tn, fp, fn, tp\", \"=\", confusion_matrix(y_test, predict_with_best_t(y_test_pred, best_t)).ravel())\n",
    "#print(\"here the threshold is \", np.round(best_t,3) , \"i can change the threshold values according to Requirement in the confusion meterix\")"
   ]
  },
  {
   "cell_type": "code",
   "execution_count": 21,
   "metadata": {},
   "outputs": [],
   "source": [
    "cf_train= pd.DataFrame(confusion_matrix(y_train, predict_with_best_t(y_train_pred, best_t)))\n",
    "cf_test = pd.DataFrame(confusion_matrix(y_test, predict_with_best_t(y_test_pred, best_t)))"
   ]
  },
  {
   "cell_type": "code",
   "execution_count": 22,
   "metadata": {},
   "outputs": [
    {
     "data": {
      "text/plain": [
       "<AxesSubplot:>"
      ]
     },
     "execution_count": 22,
     "metadata": {},
     "output_type": "execute_result"
    },
    {
     "data": {
      "image/png": "[encoded data removed]",
      "text/plain": [
       "<Figure size 432x288 with 2 Axes>"
      ]
     },
     "metadata": {},
     "output_type": "display_data"
    }
   ],
   "source": [
    "import seaborn as sns\n",
    "sns.set(font_scale=1.4)#for label size\n",
    "sns.heatmap(cf_train,annot=True, annot_kws={\"size\": 20},fmt =\"g\")"
   ]
  },
  {
   "cell_type": "code",
   "execution_count": 23,
   "metadata": {
    "scrolled": false
   },
   "outputs": [
    {
     "data": {
      "text/plain": [
       "<AxesSubplot:>"
      ]
     },
     "execution_count": 23,
     "metadata": {},
     "output_type": "execute_result"
    },
    {
     "data": {
      "image/png": "[encoded data removed]",
      "text/plain": [
       "<Figure size 432x288 with 2 Axes>"
      ]
     },
     "metadata": {},
     "output_type": "display_data"
    }
   ],
   "source": [
    "import seaborn as sns\n",
    "sns.set(font_scale=1.4)#for label size\n",
    "sns.heatmap(cf_test,annot=True, annot_kws={\"size\": 20},fmt =\"g\")"
   ]
  },
  {
   "cell_type": "markdown",
   "metadata": {},
   "source": [
    "https://stackoverflow.com/questions/54988116/why-am-i-getting-almost-same-top-10-features-using-multinomial-naive-bayes-class"
   ]
  },
  {
   "cell_type": "code",
   "execution_count": 26,
   "metadata": {},
   "outputs": [
    {
     "name": "stdout",
     "output_type": "stream",
     "text": [
      "-----------top 20 features for BOW positive classification--------------\n",
      "students\n",
      "school\n",
      "my\n",
      "classroom\n",
      "learning\n",
      "the\n",
      "not\n",
      "they\n",
      "learn\n",
      "my students\n",
      "help\n",
      "price\n",
      "many\n",
      "nannan\n",
      "work\n",
      "we\n",
      "reading\n",
      "need\n",
      "use\n",
      "day\n"
     ]
    }
   ],
   "source": [
    "sorted_idx=[]\n",
    "Positives=[]\n",
    "sorted_idx = np.argsort(-1 * neigh.feature_log_prob_[1] )[0:5063]\n",
    "print(\"-----------top 20 features for BOW positive classification--------------\")\n",
    "for i in sorted_idx[:20]:\n",
    "    print(bow_features[i])\n",
    "    Positives.append(bow_features[i])"
   ]
  },
  {
   "cell_type": "code",
   "execution_count": 27,
   "metadata": {
    "scrolled": true
   },
   "outputs": [
    {
     "name": "stdout",
     "output_type": "stream",
     "text": [
      "-----------top 20 features for BOW negative classification--------------\n",
      "students\n",
      "school\n",
      "learning\n",
      "my\n",
      "classroom\n",
      "not\n",
      "learn\n",
      "they\n",
      "help\n",
      "the\n",
      "my students\n",
      "price\n",
      "many\n",
      "nannan\n",
      "need\n",
      "we\n",
      "work\n",
      "come\n",
      "year\n",
      "teacher_number_of_previously_posted_projects\n"
     ]
    }
   ],
   "source": [
    "sorted_idx=[]\n",
    "Negatives=[]\n",
    "print(\"-----------top 20 features for BOW negative classification--------------\")\n",
    "\n",
    "sorted_idx = np.argsort(-1 * neigh.feature_log_prob_[0] )[0:5063]\n",
    "for i in sorted_idx[:20]:\n",
    "    print(bow_features[i])\n",
    "    Negatives.append(bow_features[i])"
   ]
  },
  {
   "cell_type": "code",
   "execution_count": 28,
   "metadata": {},
   "outputs": [
    {
     "name": "stdout",
     "output_type": "stream",
     "text": [
      "----List of features that are common for both positive and negative classification----------\n",
      "['price', 'learning', 'help', 'school', 'my students', 'nannan', 'not', 'my', 'learn', 'work', 'we', 'they', 'classroom', 'many', 'students', 'the', 'need']\n",
      "Total common features: 17\n"
     ]
    }
   ],
   "source": [
    "P_as_set=set(Positives)\n",
    "Intersection=P_as_set.intersection(Negatives)\n",
    "I_as_list=list(Intersection)\n",
    "print(\"----List of features that are common for both positive and negative classification----------\")\n",
    "print(I_as_list)\n",
    "print(\"Total common features:\",len(I_as_list))"
   ]
  },
  {
   "cell_type": "markdown",
   "metadata": {},
   "source": [
    "## TFIDF"
   ]
  },
  {
   "cell_type": "code",
   "execution_count": 29,
   "metadata": {},
   "outputs": [
    {
     "data": {
      "text/html": [
       "<div>\n",
       "<style scoped>\n",
       "    .dataframe tbody tr th:only-of-type {\n",
       "        vertical-align: middle;\n",
       "    }\n",
       "\n",
       "    .dataframe tbody tr th {\n",
       "        vertical-align: top;\n",
       "    }\n",
       "\n",
       "    .dataframe thead th {\n",
       "        text-align: right;\n",
       "    }\n",
       "</style>\n",
       "<table border=\"1\" class=\"dataframe\">\n",
       "  <thead>\n",
       "    <tr style=\"text-align: right;\">\n",
       "      <th></th>\n",
       "      <th>school_state</th>\n",
       "      <th>teacher_prefix</th>\n",
       "      <th>project_grade_category</th>\n",
       "      <th>teacher_number_of_previously_posted_projects</th>\n",
       "      <th>clean_categories</th>\n",
       "      <th>clean_subcategories</th>\n",
       "      <th>essay</th>\n",
       "      <th>price</th>\n",
       "    </tr>\n",
       "  </thead>\n",
       "  <tbody>\n",
       "    <tr>\n",
       "      <th>0</th>\n",
       "      <td>ca</td>\n",
       "      <td>mrs</td>\n",
       "      <td>grades_prek_2</td>\n",
       "      <td>53</td>\n",
       "      <td>math_science</td>\n",
       "      <td>appliedsciences health_lifescience</td>\n",
       "      <td>i fortunate enough use fairy tale stem kits cl...</td>\n",
       "      <td>725.05</td>\n",
       "    </tr>\n",
       "  </tbody>\n",
       "</table>\n",
       "</div>"
      ],
      "text/plain": [
       "  school_state teacher_prefix project_grade_category  \\\n",
       "0           ca            mrs          grades_prek_2   \n",
       "\n",
       "   teacher_number_of_previously_posted_projects clean_categories  \\\n",
       "0                                            53     math_science   \n",
       "\n",
       "                  clean_subcategories  \\\n",
       "0  appliedsciences health_lifescience   \n",
       "\n",
       "                                               essay   price  \n",
       "0  i fortunate enough use fairy tale stem kits cl...  725.05  "
      ]
     },
     "execution_count": 29,
     "metadata": {},
     "output_type": "execute_result"
    }
   ],
   "source": [
    "data.columns\n",
    "y=data.project_is_approved\n",
    "X=X = data.drop(['project_is_approved'], axis=1)\n",
    "X.head(1)"
   ]
  },
  {
   "cell_type": "code",
   "execution_count": 45,
   "metadata": {},
   "outputs": [
    {
     "name": "stdout",
     "output_type": "stream",
     "text": [
      "(33500, 8)\n",
      "(16500, 8)\n",
      "(33500,)\n",
      "(16500,)\n"
     ]
    }
   ],
   "source": [
    "# train test split\n",
    "# in this case I will be using the grid search and thus wont be needing the cv data. \n",
    "from sklearn.model_selection import train_test_split\n",
    "Xtf_train, Xtf_test, ytf_train, ytf_test = train_test_split(X, y, test_size=0.33, stratify=y)\n",
    "tfidf_features=[]\n",
    "print(Xtf_train.shape)\n",
    "print(Xtf_test.shape)\n",
    "print(ytf_train.shape)\n",
    "print(ytf_test.shape)"
   ]
  },
  {
   "cell_type": "code",
   "execution_count": 46,
   "metadata": {},
   "outputs": [
    {
     "name": "stdout",
     "output_type": "stream",
     "text": [
      "After vectorizations\n",
      "(33500, 10371) (33500,)\n",
      "(16500, 10371) (16500,)\n",
      "====================================================================================================\n",
      "10371\n"
     ]
    }
   ],
   "source": [
    "from sklearn.feature_extraction.text import TfidfVectorizer\n",
    "vectorizer = TfidfVectorizer(min_df=10)\n",
    "vectorizer.fit(Xtf_train['essay'].values) # fit has to happen only on train data\n",
    "\n",
    "Xtf_train_essay = vectorizer.transform(Xtf_train['essay'].values)\n",
    "Xtf_test_essay = vectorizer.transform(Xtf_test['essay'].values)\n",
    "\n",
    "print(\"After vectorizations\")\n",
    "print(Xtf_train_essay.shape, ytf_train.shape)\n",
    "print(Xtf_test_essay.shape, ytf_test.shape)\n",
    "#print(vectorizer.get_feature_names())\n",
    "print(\"=\"*100)\n",
    "for i in vectorizer.get_feature_names():\n",
    "    tfidf_features.append(i)\n",
    "print(len(tfidf_features))"
   ]
  },
  {
   "cell_type": "code",
   "execution_count": 47,
   "metadata": {},
   "outputs": [
    {
     "name": "stdout",
     "output_type": "stream",
     "text": [
      "After vectorizations\n",
      "(33500, 7) (33500,)\n",
      "(16500, 7) (16500,)\n",
      "====================================================================================================\n",
      "10378\n"
     ]
    }
   ],
   "source": [
    "\n",
    "vectorizer = TfidfVectorizer(min_df=10)\n",
    "vectorizer.fit(Xtf_train['clean_categories'].values) # fit has to happen only on train data\n",
    "\n",
    "Xtf_train_cc = vectorizer.transform(Xtf_train['clean_categories'].values)\n",
    "Xtf_test_cc = vectorizer.transform(Xtf_test['clean_categories'].values)\n",
    "\n",
    "print(\"After vectorizations\")\n",
    "print(Xtf_train_cc.shape, ytf_train.shape)\n",
    "print(Xtf_test_cc.shape, ytf_test.shape)\n",
    "#print(vectorizer.get_feature_names())\n",
    "print(\"=\"*100)\n",
    "for i in vectorizer.get_feature_names():\n",
    "    tfidf_features.append(i)\n",
    "print(len(tfidf_features))"
   ]
  },
  {
   "cell_type": "code",
   "execution_count": 48,
   "metadata": {},
   "outputs": [
    {
     "name": "stdout",
     "output_type": "stream",
     "text": [
      "After vectorizations\n",
      "(33500, 28) (33500,)\n",
      "(16500, 28) (16500,)\n",
      "====================================================================================================\n",
      "10406\n"
     ]
    }
   ],
   "source": [
    "vectorizer = TfidfVectorizer(min_df=10)\n",
    "vectorizer.fit(Xtf_train['clean_subcategories'].values) # fit has to happen only on train data\n",
    "\n",
    "Xtf_train_csc = vectorizer.transform(Xtf_train['clean_subcategories'].values)\n",
    "Xtf_test_csc = vectorizer.transform(Xtf_test['clean_subcategories'].values)\n",
    "\n",
    "print(\"After vectorizations\")\n",
    "print(Xtf_train_csc.shape, ytf_train.shape)\n",
    "print(Xtf_test_csc.shape, ytf_test.shape)\n",
    "#print(vectorizer.get_feature_names())\n",
    "print(\"=\"*100)\n",
    "for i in vectorizer.get_feature_names():\n",
    "    tfidf_features.append(i)\n",
    "print(len(tfidf_features))"
   ]
  },
  {
   "cell_type": "code",
   "execution_count": 49,
   "metadata": {},
   "outputs": [
    {
     "name": "stdout",
     "output_type": "stream",
     "text": [
      "After vectorizations\n",
      "(33500, 51) (22445,)\n",
      "(16500, 51) (16500,)\n",
      "['ak', 'al', 'ar', 'az', 'ca', 'co', 'ct', 'dc', 'de', 'fl', 'ga', 'hi', 'ia', 'id', 'il', 'in', 'ks', 'ky', 'la', 'ma', 'md', 'me', 'mi', 'mn', 'mo', 'ms', 'mt', 'nc', 'nd', 'ne', 'nh', 'nj', 'nm', 'nv', 'ny', 'oh', 'ok', 'or', 'pa', 'ri', 'sc', 'sd', 'tn', 'tx', 'ut', 'va', 'vt', 'wa', 'wi', 'wv', 'wy']\n",
      "====================================================================================================\n",
      "10457\n"
     ]
    }
   ],
   "source": [
    "vectorizer = CountVectorizer()\n",
    "vectorizer.fit(Xtf_train['school_state'].values) # fit has to happen only on train data\n",
    "\n",
    "# we use the fitted CountVectorizer to convert the text to vector\n",
    "Xtf_train_state_ohe = vectorizer.transform(Xtf_train['school_state'].values)\n",
    "Xtf_test_state_ohe = vectorizer.transform(Xtf_test['school_state'].values)\n",
    "\n",
    "print(\"After vectorizations\")\n",
    "print(Xtf_train_state_ohe.shape, y_train.shape)\n",
    "print(Xtf_test_state_ohe.shape, y_test.shape)\n",
    "print(vectorizer.get_feature_names())\n",
    "print(\"=\"*100)\n",
    "for i in vectorizer.get_feature_names():\n",
    "    tfidf_features.append(i)\n",
    "print(len(tfidf_features))"
   ]
  },
  {
   "cell_type": "code",
   "execution_count": 50,
   "metadata": {},
   "outputs": [
    {
     "name": "stdout",
     "output_type": "stream",
     "text": [
      "After vectorizations\n",
      "(33500, 5) (22445,)\n",
      "(16500, 5) (16500,)\n",
      "['dr', 'mr', 'mrs', 'ms', 'teacher']\n",
      "====================================================================================================\n",
      "10462\n"
     ]
    }
   ],
   "source": [
    "vectorizer = CountVectorizer()\n",
    "vectorizer.fit(Xtf_train['teacher_prefix'].values) # fit has to happen only on train data\n",
    "\n",
    "# we use the fitted CountVectorizer to convert the text to vector\n",
    "Xtf_train_teacher_ohe = vectorizer.transform(Xtf_train['teacher_prefix'].values)\n",
    "Xtf_test_teacher_ohe = vectorizer.transform(Xtf_test['teacher_prefix'].values)\n",
    "\n",
    "print(\"After vectorizations\")\n",
    "print(Xtf_train_teacher_ohe.shape, y_train.shape)\n",
    "print(Xtf_test_teacher_ohe.shape, y_test.shape)\n",
    "print(vectorizer.get_feature_names())\n",
    "print(\"=\"*100)\n",
    "for i in vectorizer.get_feature_names():\n",
    "    tfidf_features.append(i)\n",
    "print(len(tfidf_features))"
   ]
  },
  {
   "cell_type": "code",
   "execution_count": 51,
   "metadata": {},
   "outputs": [
    {
     "name": "stdout",
     "output_type": "stream",
     "text": [
      "After vectorizations\n",
      "(33500, 4) (22445,)\n",
      "(16500, 4) (16500,)\n",
      "['grades_3_5', 'grades_6_8', 'grades_9_12', 'grades_prek_2']\n",
      "====================================================================================================\n",
      "10466\n"
     ]
    }
   ],
   "source": [
    "\n",
    "vectorizer = CountVectorizer()\n",
    "vectorizer.fit(Xtf_train['project_grade_category'].values) # fit has to happen only on train data\n",
    "\n",
    "# we use the fitted CountVectorizer to convert the text to vector\n",
    "Xtf_train_grade_ohe = vectorizer.transform(Xtf_train['project_grade_category'].values)\n",
    "Xtf_test_grade_ohe = vectorizer.transform(Xtf_test['project_grade_category'].values)\n",
    "\n",
    "print(\"After vectorizations\")\n",
    "print(Xtf_train_grade_ohe.shape, y_train.shape)\n",
    "print(Xtf_test_grade_ohe.shape, y_test.shape)\n",
    "print(vectorizer.get_feature_names())\n",
    "print(\"=\"*100)\n",
    "for i in vectorizer.get_feature_names():\n",
    "    tfidf_features.append(i)\n",
    "print(len(tfidf_features))"
   ]
  },
  {
   "cell_type": "code",
   "execution_count": 52,
   "metadata": {},
   "outputs": [
    {
     "name": "stdout",
     "output_type": "stream",
     "text": [
      "After vectorizations\n",
      "(33500, 1) (22445,)\n",
      "(16500, 1) (16500,)\n",
      "====================================================================================================\n"
     ]
    }
   ],
   "source": [
    "from sklearn.preprocessing import Normalizer\n",
    "normalizer = Normalizer()\n",
    "normalizer.fit(Xtf_train['teacher_number_of_previously_posted_projects'].values.reshape(-1,1))\n",
    "\n",
    "Xtf_train_projectcount_norm = normalizer.transform(Xtf_train['teacher_number_of_previously_posted_projects'].values.reshape(-1,1))\n",
    "Xtf_test_projectcount_norm = normalizer.transform(Xtf_test['teacher_number_of_previously_posted_projects'].values.reshape(-1,1))\n",
    "\n",
    "\n",
    "\n",
    "print(\"After vectorizations\")\n",
    "print(Xtf_train_projectcount_norm.shape, y_train.shape)\n",
    "print(Xtf_test_projectcount_norm.shape, y_test.shape)\n",
    "print(\"=\"*100)"
   ]
  },
  {
   "cell_type": "code",
   "execution_count": 53,
   "metadata": {},
   "outputs": [],
   "source": [
    "tfidf_features.append(\"teacher_number_of_previously_posted_projects\")"
   ]
  },
  {
   "cell_type": "code",
   "execution_count": 54,
   "metadata": {},
   "outputs": [
    {
     "name": "stdout",
     "output_type": "stream",
     "text": [
      "After vectorizations\n",
      "(33500, 1) (22445,)\n",
      "(16500, 1) (16500,)\n",
      "====================================================================================================\n"
     ]
    }
   ],
   "source": [
    "from sklearn.preprocessing import Normalizer\n",
    "normalizer = Normalizer()\n",
    "normalizer.fit(Xtf_train['price'].values.reshape(-1,1))\n",
    "\n",
    "Xtf_train_price_norm = normalizer.transform(Xtf_train['price'].values.reshape(-1,1))\n",
    "Xtf_test_price_norm = normalizer.transform(Xtf_test['price'].values.reshape(-1,1))\n",
    "\n",
    "\n",
    "\n",
    "print(\"After vectorizations\")\n",
    "print(Xtf_train_projectcount_norm.shape, y_train.shape)\n",
    "print(Xtf_test_projectcount_norm.shape, y_test.shape)\n",
    "print(\"=\"*100)"
   ]
  },
  {
   "cell_type": "code",
   "execution_count": 55,
   "metadata": {},
   "outputs": [],
   "source": [
    "tfidf_features.append(\"price\")"
   ]
  },
  {
   "cell_type": "code",
   "execution_count": 56,
   "metadata": {},
   "outputs": [
    {
     "data": {
      "text/plain": [
       "10468"
      ]
     },
     "execution_count": 56,
     "metadata": {},
     "output_type": "execute_result"
    }
   ],
   "source": [
    "len(tfidf_features)"
   ]
  },
  {
   "cell_type": "markdown",
   "metadata": {},
   "source": [
    "\n",
    "#### Features that I am gonna use for this model:\n",
    "Xtf_train_essay, Xtf_train_cc, Xtf_train_csc, X_train_state_ohe, X_train_teacher_ohe, X_train_grade_ohe, X_train_price_norm,X_train_projectcount_norm\n",
    "\n",
    "\n",
    "Xtf_test_essay, Xtf_test_cc,Xtf_test_csc, X_test_state_ohe, X_test_teacher_ohe, X_test_grade_ohe, X_test_price_norm,X_test_projectcount_norm\n"
   ]
  },
  {
   "cell_type": "code",
   "execution_count": 57,
   "metadata": {
    "scrolled": true
   },
   "outputs": [
    {
     "name": "stdout",
     "output_type": "stream",
     "text": [
      "Final Data matrix\n",
      "(33500, 10468) (33500,)\n",
      "(16500, 10468) (16500,)\n",
      "====================================================================================================\n"
     ]
    }
   ],
   "source": [
    "Xtf_tr = hstack((Xtf_train_essay, Xtf_train_cc, Xtf_train_csc, Xtf_train_state_ohe, Xtf_train_teacher_ohe, Xtf_train_grade_ohe, Xtf_train_price_norm,Xtf_train_projectcount_norm)).tocsr()\n",
    "Xtf_te = hstack((Xtf_test_essay, Xtf_test_cc,Xtf_test_csc, Xtf_test_state_ohe, Xtf_test_teacher_ohe, Xtf_test_grade_ohe, Xtf_test_price_norm,Xtf_test_projectcount_norm)).tocsr()\n",
    "\n",
    "print(\"Final Data matrix\")\n",
    "print(Xtf_tr.shape, ytf_train.shape)\n",
    "print(Xtf_te.shape, y_test.shape)\n",
    "print(\"=\"*100)"
   ]
  },
  {
   "cell_type": "markdown",
   "metadata": {},
   "source": [
    "---Data is ready to be trained but we still dont have a hyperparameter---"
   ]
  },
  {
   "cell_type": "markdown",
   "metadata": {},
   "source": [
    "https://towardsdatascience.com/grid-search-for-model-tuning-3319b259367e"
   ]
  },
  {
   "cell_type": "code",
   "execution_count": 58,
   "metadata": {},
   "outputs": [
    {
     "name": "stdout",
     "output_type": "stream",
     "text": [
      "Fitting 10 folds for each of 14 candidates, totalling 140 fits\n",
      "*Drum Rolls for the optimal alpha*\n",
      "MultinomialNB(alpha=0.1)\n",
      "{'alpha': 0.1}\n"
     ]
    }
   ],
   "source": [
    "from sklearn.naive_bayes import MultinomialNB\n",
    "from sklearn.model_selection import GridSearchCV\n",
    "from sklearn.metrics import roc_curve, auc\n",
    "\n",
    "grid_values = {'alpha':[0.00001,0.0005, 0.0001,0.005,0.001,0.05,0.01,0.1,0.5,1,5,10,50,100]}\n",
    "clf = MultinomialNB()\n",
    "\n",
    "nbModel_grid = GridSearchCV(estimator=clf, param_grid=grid_values,scoring='roc_auc',verbose=1, cv=10, n_jobs=-1)\n",
    "nbModel_grid.fit(Xtf_tr, ytf_train)\n",
    "print(\"*Drum Rolls for the optimal alpha*\")\n",
    "print(nbModel_grid.best_estimator_)\n",
    "print(nbModel_grid.best_params_)\n"
   ]
  },
  {
   "cell_type": "markdown",
   "metadata": {},
   "source": [
    "---alpha picked is as above---"
   ]
  },
  {
   "cell_type": "code",
   "execution_count": 59,
   "metadata": {
    "scrolled": true
   },
   "outputs": [
    {
     "name": "stdout",
     "output_type": "stream",
     "text": [
      "      0      1\n",
      "0  3894   1471\n",
      "1  7983  20152\n",
      "      0     1\n",
      "0   895  1747\n",
      "1  4914  8944\n"
     ]
    },
    {
     "data": {
      "image/png": "[encoded data removed]",
      "text/plain": [
       "<Figure size 432x288 with 1 Axes>"
      ]
     },
     "metadata": {},
     "output_type": "display_data"
    }
   ],
   "source": [
    "clf = MultinomialNB(alpha = 0.1,class_prior=[0.5,0.5])\n",
    "clf.fit(Xtf_tr, ytf_train)\n",
    "\n",
    "cf_tfidf_train= pd.DataFrame(confusion_matrix(ytf_train, clf.predict(Xtf_tr)))\n",
    "print(cf_tfidf_train)\n",
    "cf_tfidf_test= pd.DataFrame(confusion_matrix(y_test, clf.predict(Xtf_te)))\n",
    "print(cf_tfidf_test)\n",
    "train_tf_fpr, train_tf_tpr, tr_tf_thresholds = roc_curve(ytf_train, clf.predict(Xtf_tr))\n",
    "test_tf_fpr, test_tf_tpr, te_tf_thresholds = roc_curve(y_test, clf.predict(Xtf_te))\n",
    "\n",
    "plt.plot(train_tf_fpr, train_tf_tpr, label=\"Train AUC =\"+str(auc(train_tf_fpr, train_tf_tpr)))\n",
    "plt.plot(test_tf_fpr, test_tf_tpr, label=\"Test AUC =\"+str(auc(test_tf_fpr, test_tf_tpr)))\n",
    "plt.legend()\n",
    "plt.xlabel(\"True Positive Rate(TPR)\")\n",
    "plt.ylabel(\"False Positive Rate(FPR)\")\n",
    "plt.title(\"AUC\")\n",
    "plt.grid(color='black', linestyle='-', linewidth=0.5)\n",
    "plt.show()"
   ]
  },
  {
   "cell_type": "markdown",
   "metadata": {},
   "source": [
    "https://stackoverflow.com/questions/54988116/why-am-i-getting-almost-same-top-10-features-using-multinomial-naive-bayes-class"
   ]
  },
  {
   "cell_type": "code",
   "execution_count": 60,
   "metadata": {},
   "outputs": [
    {
     "name": "stdout",
     "output_type": "stream",
     "text": [
      "------List of top 20 TFIDF features for positive classification--------\n",
      "galaxy\n",
      "fairly\n",
      "displaying\n",
      "arrange\n",
      "cross\n",
      "helpful\n",
      "drill\n",
      "hockey\n",
      "crafting\n",
      "distinguish\n",
      "commented\n",
      "isd\n",
      "deserved\n",
      "documentaries\n",
      "inspirational\n",
      "individual\n",
      "exceptionalities\n",
      "dojo\n",
      "immeasurable\n",
      "being\n"
     ]
    }
   ],
   "source": [
    "sorted_idx=[]\n",
    "Positives=[]\n",
    "print(\"------List of top 20 TFIDF features for positive classification--------\")\n",
    "sorted_idx = np.argsort(-1 * neigh.feature_log_prob_[1] )[0:10420]\n",
    "for i in sorted_idx[:20]:\n",
    "    print(tfidf_features[i])\n",
    "    Positives.append(tfidf_features[i])"
   ]
  },
  {
   "cell_type": "code",
   "execution_count": 61,
   "metadata": {},
   "outputs": [
    {
     "name": "stdout",
     "output_type": "stream",
     "text": [
      "------List of top 20 TFIDF features for negative classification--------\n",
      "galaxy\n",
      "fairly\n",
      "cross\n",
      "displaying\n",
      "arrange\n",
      "drill\n",
      "crafting\n",
      "hockey\n",
      "commented\n",
      "helpful\n",
      "distinguish\n",
      "isd\n",
      "deserved\n",
      "documentaries\n",
      "dojo\n",
      "individual\n",
      "inspirational\n",
      "athletic\n",
      "interactions\n",
      "island\n"
     ]
    }
   ],
   "source": [
    "sorted_idx=[]\n",
    "Negatives=[]\n",
    "print(\"------List of top 20 TFIDF features for negative classification--------\")\n",
    "\n",
    "sorted_idx = np.argsort(-1 * neigh.feature_log_prob_[0] )[0:10420]\n",
    "for i in sorted_idx[:20]:\n",
    "    print(tfidf_features[i])\n",
    "    Negatives.append(tfidf_features[i])"
   ]
  },
  {
   "cell_type": "code",
   "execution_count": 62,
   "metadata": {},
   "outputs": [
    {
     "name": "stdout",
     "output_type": "stream",
     "text": [
      "----------------List of common features for both positive and negative features---------------\n",
      "['galaxy', 'arrange', 'drill', 'documentaries', 'isd', 'helpful', 'individual', 'cross', 'displaying', 'hockey', 'dojo', 'inspirational', 'distinguish', 'commented', 'crafting', 'deserved', 'fairly']\n",
      "Total common features 17\n"
     ]
    }
   ],
   "source": [
    "P_as_set=set(Positives)\n",
    "print(\"----------------List of common features for both positive and negative features---------------\")\n",
    "Intersection=P_as_set.intersection(Negatives)\n",
    "I_as_list=list(Intersection)\n",
    "print(I_as_list)\n",
    "print(\"Total common features\", len(I_as_list))"
   ]
  },
  {
   "cell_type": "code",
   "execution_count": 63,
   "metadata": {},
   "outputs": [
    {
     "data": {
      "text/plain": [
       "<AxesSubplot:>"
      ]
     },
     "execution_count": 63,
     "metadata": {},
     "output_type": "execute_result"
    },
    {
     "data": {
      "image/png": "[encoded data removed]",
      "text/plain": [
       "<Figure size 432x288 with 2 Axes>"
      ]
     },
     "metadata": {},
     "output_type": "display_data"
    }
   ],
   "source": [
    "sns.set(font_scale=1.4)#for label size\n",
    "sns.heatmap(cf_tfidf_train,annot=True, annot_kws={\"size\": 20},fmt =\"g\")"
   ]
  },
  {
   "cell_type": "code",
   "execution_count": 64,
   "metadata": {},
   "outputs": [
    {
     "data": {
      "text/plain": [
       "<AxesSubplot:>"
      ]
     },
     "execution_count": 64,
     "metadata": {},
     "output_type": "execute_result"
    },
    {
     "data": {
      "image/png": "[encoded data removed]",
      "text/plain": [
       "<Figure size 432x288 with 2 Axes>"
      ]
     },
     "metadata": {},
     "output_type": "display_data"
    }
   ],
   "source": [
    "sns.set(font_scale=1.4)#for label size\n",
    "sns.heatmap(cf_tfidf_test,annot=True, annot_kws={\"size\": 20},fmt =\"g\")"
   ]
  },
  {
   "cell_type": "code",
   "execution_count": 66,
   "metadata": {},
   "outputs": [
    {
     "name": "stdout",
     "output_type": "stream",
     "text": [
      "+------------+-------------+-----------------------+-----------+\n",
      "| Vectorizer |    Model    | Alpha:Hyper Parameter |  Test AUC |\n",
      "+------------+-------------+-----------------------+-----------+\n",
      "|    BOW     | Naive Bayes |           50          |    0.64   |\n",
      "|   TFIDF    | Naive Bayes |          0.01         |    0.49   |\n",
      "+------------+-------------+-----------------------+-----------+\n"
     ]
    }
   ],
   "source": [
    "from prettytable import PrettyTable\n",
    "x = PrettyTable()\n",
    "x.field_names = [\"Vectorizer\", \"Model\", \"Alpha:Hyper Parameter\", \" Test AUC\"]\n",
    "x.add_row([\"BOW\", \"Naive Bayes\", 50, 0.64])\n",
    "x.add_row([\"TFIDF\", \"Naive Bayes\", 0.01, 0.49 ])\n",
    "\n",
    "print(x)"
   ]
  }
 ],
 "metadata": {
  "colab": {
   "collapsed_sections": [],
   "name": "6_Assignment_NB_Instructions.ipynb",
   "provenance": []
  },
  "kernelspec": {
   "display_name": "Python 3",
   "language": "python",
   "name": "python3"
  },
  "language_info": {
   "codemirror_mode": {
    "name": "ipython",
    "version": 3
   },
   "file_extension": ".py",
   "mimetype": "text/x-python",
   "name": "python",
   "nbconvert_exporter": "python",
   "pygments_lexer": "ipython3",
   "version": "3.8.8"
  }
 },
 "nbformat": 4,
 "nbformat_minor": 1
}
