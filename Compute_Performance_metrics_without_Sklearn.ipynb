{
 "cells": [
  {
   "cell_type": "markdown",
   "metadata": {
    "id": "s0Ej_bXyQvnV"
   },
   "source": [
    "# Compute performance metrics for the given Y and Y_score without sklearn"
   ]
  },
  {
   "cell_type": "code",
   "execution_count": 1,
   "metadata": {
    "id": "4CHb6NE7Qvnc"
   },
   "outputs": [],
   "source": [
    "import numpy as np\n",
    "import pandas as pd\n",
    "from tqdm import tqdm\n",
    "import matplotlib.pyplot as plt"
   ]
  },
  {
   "cell_type": "markdown",
   "metadata": {
    "id": "KbsWXuDaQvnq"
   },
   "source": [
    "<pre>\n",
    "<font color='red'><b>A.</b></font> Compute performance metrics for the given data <strong>5_a.csv</strong>\n",
    "   <b>Note 1:</b> in this data you can see number of positive points >> number of negatives points\n",
    "   <b>Note 2:</b> use pandas or numpy to read the data from <b>5_a.csv</b>\n",
    "   <b>Note 3:</b> you need to derive the class labels from given score</pre> $y^{pred}= \\text{[0 if y_score < 0.5 else 1]}$\n",
    "\n",
    "<pre>\n",
    "<ol>\n",
    "<li> Compute Confusion Matrix </li>\n",
    "<li> Compute F1 Score </li>\n",
    "<li> Compute AUC Score, you need to compute different thresholds and for each threshold compute tpr,fpr and then use               numpy.trapz(tpr_array, fpr_array) <a href='https://stackoverflow.com/q/53603376/4084039'>https://stackoverflow.com/q/53603376/4084039</a>, <a href='https://stackoverflow.com/a/39678975/4084039'>https://stackoverflow.com/a/39678975/4084039</a> Note: it should be numpy.trapz(tpr_array, fpr_array) not numpy.trapz(fpr_array, tpr_array)</li>\n",
    "<li> Compute Accuracy Score </li>\n",
    "</ol>\n",
    "</pre>"
   ]
  },
  {
   "cell_type": "code",
   "execution_count": 2,
   "metadata": {
    "id": "U2sKlq0YQvn5"
   },
   "outputs": [],
   "source": [
    "data_b=pd.read_csv(r\"C:\\Users\\anshi\\Downloads\\5_b.csv\")# nrows=2000)\n",
    "data_a=pd.read_csv(r\"C:\\Users\\anshi\\Downloads\\5_a.csv\")#, nrows=2000)"
   ]
  },
  {
   "cell_type": "code",
   "execution_count": 3,
   "metadata": {},
   "outputs": [],
   "source": [
    "def y_predict(df, y_prob, threshold):\n",
    "    y_predicted=[]\n",
    "    y_predicted=df.proba.apply(lambda x: 1 if x>=threshold else 0)\n",
    "    return y_predicted"
   ]
  },
  {
   "cell_type": "code",
   "execution_count": 4,
   "metadata": {
    "id": "WaFLW7oBQvnt"
   },
   "outputs": [],
   "source": [
    "def confusion_matrix(data):\n",
    "    TP, TN, FP, FN = 0,0,0,0\n",
    "    \n",
    "    for i in range(len(data)):\n",
    "        if data.loc[i,\"y\"] == 1 and data.loc[i, \"y_pred\"]==1:\n",
    "            TP+=1\n",
    "        if data.loc[i,\"y\"] == 0 and data.loc[i, \"y_pred\"]==0:\n",
    "            TN+=1\n",
    "        if data.loc[i,\"y\"] == 0 and data.loc[i, \"y_pred\"]==1:\n",
    "            FP+=1        \n",
    "        if data.loc[i,\"y\"] == 1 and data.loc[i, \"y_pred\"]==0:\n",
    "            FN+=1\n",
    "    return {'tp':TP,'tn':TN,'fn':FN,'fp':FP}"
   ]
  },
  {
   "cell_type": "code",
   "execution_count": 5,
   "metadata": {},
   "outputs": [],
   "source": [
    "def auc(df,prob):\n",
    "    s = df['y'].value_counts()\n",
    "    P = s[1]\n",
    "    N = s[0]\n",
    "    tpr = []\n",
    "    fpr = []\n",
    "    for i in tqdm(prob):\n",
    "        df['y_pred']=y_predict(df,df.proba, i)\n",
    "        matrix=confusion_matrix(df)\n",
    "        tpr.append(matrix['tp']/P)\n",
    "        fpr.append(matrix['fp']/N)\n",
    "        df.drop(columns=['y_pred'])\n",
    "    auc=np.trapz(tpr,fpr)\n",
    "    plt.plot(fpr, tpr, label=\"AUC\")\n",
    "    plt.title(\"Receiver operating characteristic\")\n",
    "    plt.xlabel(\"False Positive Rate\")\n",
    "    plt.ylabel(\"True Positive Rate\")\n",
    "    return auc"
   ]
  },
  {
   "cell_type": "markdown",
   "metadata": {},
   "source": [
    "## Data Wise Operation:\n",
    "### Data A"
   ]
  },
  {
   "cell_type": "code",
   "execution_count": 6,
   "metadata": {},
   "outputs": [
    {
     "name": "stdout",
     "output_type": "stream",
     "text": [
      "Printing the confusion matrix: {'tp': 10000, 'tn': 0, 'fn': 0, 'fp': 100}\n",
      "Printing the precision 0.9900990099009901\n",
      "Printing the recall 1.0\n",
      "Printing the F1 Score 0.9950248756218906\n",
      "Printing the accuracy score 0.9900990099009901\n"
     ]
    }
   ],
   "source": [
    "data_a[\"y_pred\"]=y_predict(data_a, data_a.proba, 0.5)\n",
    "\n",
    "matrix=confusion_matrix(data_a)\n",
    "print(\"Printing the confusion matrix:\",matrix)\n",
    "\n",
    "precision, recall, accuracy_score, F1_score=0,0,0,0\n",
    "\n",
    "precision=matrix['tp']/(matrix['tp']+matrix['fp'])\n",
    "print(\"Printing the precision\",precision)\n",
    "\n",
    "recall=matrix['tp']/(matrix['tp']+matrix['fn'])\n",
    "print(\"Printing the recall\", recall)\n",
    "\n",
    "F1_score=2*precision*recall/(precision+recall)\n",
    "print(\"Printing the F1 Score\", F1_score)\n",
    "\n",
    "accuracy_score=(matrix['tp']+matrix['tn'])/(matrix['tp']+matrix['tn']+matrix['fp']+matrix['fn'])\n",
    "print(\"Printing the accuracy score\",accuracy_score)"
   ]
  },
  {
   "cell_type": "code",
   "execution_count": 7,
   "metadata": {},
   "outputs": [],
   "source": [
    "data_a.proba=data_a.proba.round(3)"
   ]
  },
  {
   "cell_type": "code",
   "execution_count": 8,
   "metadata": {},
   "outputs": [
    {
     "name": "stderr",
     "output_type": "stream",
     "text": [
      "100%|██████████| 401/401 [06:02<00:00,  1.11it/s]\n"
     ]
    },
    {
     "name": "stdout",
     "output_type": "stream",
     "text": [
      "AUC Score 0.48827050000000005\n"
     ]
    },
    {
     "data": {
      "image/png": "[encoded data removed]",
      "text/plain": [
       "<Figure size 432x288 with 1 Axes>"
      ]
     },
     "metadata": {
      "needs_background": "light"
     },
     "output_type": "display_data"
    }
   ],
   "source": [
    "xyz=sorted(data_a.proba.unique().tolist(), reverse=True)\n",
    "auc_score_a=auc(data_a,xyz)\n",
    "print(\"AUC Score\",auc_score_a)"
   ]
  },
  {
   "cell_type": "markdown",
   "metadata": {
    "id": "V5KZem1BQvn2"
   },
   "source": [
    "<pre>\n",
    "<font color='red'><b>B.</b></font> Compute performance metrics for the given data <strong>5_b.csv</strong>\n",
    "   <b>Note 1:</b> in this data you can see number of positive points << number of negatives points\n",
    "   <b>Note 2:</b> use pandas or numpy to read the data from <b>5_b.csv</b>\n",
    "   <b>Note 3:</b> you need to derive the class labels from given score</pre> $y^{pred}= \\text{[0 if y_score < 0.5 else 1]}$\n",
    "\n",
    "<pre>\n",
    "<ol>\n",
    "<li> Compute Confusion Matrix </li>\n",
    "<li> Compute F1 Score </li>\n",
    "<li> Compute AUC Score, you need to compute different thresholds and for each threshold compute tpr,fpr and then use               numpy.trapz(tpr_array, fpr_array) <a href='https://stackoverflow.com/q/53603376/4084039'>https://stackoverflow.com/q/53603376/4084039</a>, <a href='https://stackoverflow.com/a/39678975/4084039'>https://stackoverflow.com/a/39678975/4084039</a></li>\n",
    "<li> Compute Accuracy Score </li>\n",
    "</ol>\n",
    "</pre>"
   ]
  },
  {
   "cell_type": "markdown",
   "metadata": {},
   "source": [
    "### Data B"
   ]
  },
  {
   "cell_type": "code",
   "execution_count": 9,
   "metadata": {},
   "outputs": [
    {
     "name": "stdout",
     "output_type": "stream",
     "text": [
      "Printing the confusion matrix: {'tp': 55, 'tn': 9761, 'fn': 45, 'fp': 239}\n",
      "Printing the precision 0.1870748299319728\n",
      "Printing the recall 0.55\n",
      "Printing the F1 Score 0.2791878172588833\n",
      "Printing the accuracy score 0.9718811881188119\n"
     ]
    }
   ],
   "source": [
    "data_b['y_pred']=y_predict(data_b,'proba',0.5)\n",
    "\n",
    "matrix_b=confusion_matrix(data_b)\n",
    "print(\"Printing the confusion matrix:\",matrix_b)\n",
    "\n",
    "precision_b, recall_b, accuracy_score_b, F1_score_b=0,0,0,0\n",
    "\n",
    "precision_b=matrix_b['tp']/(matrix_b['tp']+matrix_b['fp'])\n",
    "print(\"Printing the precision\",precision_b)\n",
    "\n",
    "recall_b=matrix_b['tp']/(matrix_b['tp']+matrix_b['fn'])\n",
    "print(\"Printing the recall\", recall_b)\n",
    "\n",
    "F1_score_b=2*precision_b*recall_b/(precision_b+recall_b)\n",
    "print(\"Printing the F1 Score\",F1_score_b)\n",
    "\n",
    "accuracy_score_b=(matrix_b['tp']+matrix_b['tn'])/(matrix_b['tp']+matrix_b['tn']+matrix_b['fp']+matrix_b['fn'])\n",
    "print(\"Printing the accuracy score\",accuracy_score_b)"
   ]
  },
  {
   "cell_type": "code",
   "execution_count": 10,
   "metadata": {},
   "outputs": [],
   "source": [
    "data_b.proba=data_b.proba.round(3)\n",
    "xyz=sorted(data_b.proba.unique().tolist(), reverse=True)"
   ]
  },
  {
   "cell_type": "code",
   "execution_count": 11,
   "metadata": {},
   "outputs": [
    {
     "name": "stderr",
     "output_type": "stream",
     "text": [
      "100%|██████████| 446/446 [06:54<00:00,  1.08it/s]\n"
     ]
    },
    {
     "name": "stdout",
     "output_type": "stream",
     "text": [
      "AUC Score 0.937801\n"
     ]
    },
    {
     "data": {
      "image/png": "[encoded data removed]",
      "text/plain": [
       "<Figure size 432x288 with 1 Axes>"
      ]
     },
     "metadata": {
      "needs_background": "light"
     },
     "output_type": "display_data"
    }
   ],
   "source": [
    "auc_score_b=auc(data_b,xyz)\n",
    "print(\"AUC Score\",auc_score_b)"
   ]
  },
  {
   "cell_type": "markdown",
   "metadata": {},
   "source": [
    "### Data C"
   ]
  },
  {
   "cell_type": "markdown",
   "metadata": {
    "id": "GiPGonTzQvoB"
   },
   "source": [
    "<font color='red'><b>C.</b></font> Compute the best threshold (similarly to ROC curve computation) of probability which gives lowest values of metric <b>A</b> for the given data <strong>5_c.csv</strong>\n",
    "<br>\n",
    "\n",
    "you will be predicting label of a data points like this: $y^{pred}= \\text{[0 if y_score < threshold  else 1]}$\n",
    "\n",
    "$ A = 500 \\times \\text{number of false negative} + 100 \\times \\text{numebr of false positive}$\n",
    "\n",
    "<pre>\n",
    "   <b>Note 1:</b> in this data you can see number of negative points > number of positive points\n",
    "   <b>Note 2:</b> use pandas or numpy to read the data from <b>5_c.csv</b>\n",
    "</pre>"
   ]
  },
  {
   "cell_type": "code",
   "execution_count": 12,
   "metadata": {
    "id": "x5HIJzq1QvoE"
   },
   "outputs": [],
   "source": [
    "data_c=pd.read_csv(r\"C:\\Users\\anshi\\Downloads\\5_c.csv\")\n",
    "\n",
    "data_c.rename(columns={'prob':'proba'}, inplace=True)\n",
    "data_c=data_c.sort_values(by='proba')\n"
   ]
  },
  {
   "cell_type": "code",
   "execution_count": 13,
   "metadata": {},
   "outputs": [],
   "source": [
    "def min_A(df):\n",
    "    A_dict={}\n",
    "    for i in (df['proba']):\n",
    "        df['y_pred']=y_predict(df,df.proba, i)\n",
    "        matrix_c=confusion_matrix(df)\n",
    "        A_value=500*matrix_c['fn']+100*matrix_c['fp']\n",
    "        A_dict[i]=A_value\n",
    "        df.drop(columns=['y_pred'])\n",
    "    return A_dict   \n"
   ]
  },
  {
   "cell_type": "code",
   "execution_count": 14,
   "metadata": {},
   "outputs": [
    {
     "name": "stdout",
     "output_type": "stream",
     "text": [
      "141000\n",
      "[0.2300390278970873]\n"
     ]
    }
   ],
   "source": [
    "A_results=min_A(data_c)\n",
    "A_value_final=min(A_results.values())\n",
    "A_key_final=[x for x in A_results if A_results[x]==A_value_final]\n",
    "print(A_value_final)\n",
    "print(A_key_final)"
   ]
  },
  {
   "cell_type": "markdown",
   "metadata": {
    "id": "sD4CcgjXQvoL"
   },
   "source": [
    "<pre>\n",
    "<font color='red'><b>D.</b></font> Compute performance metrics(for regression) for the given data <strong>5_d.csv</strong>\n",
    "    <b>Note 2:</b> use pandas or numpy to read the data from <b>5_d.csv</b>\n",
    "    <b>Note 1:</b> <b>5_d.csv</b> will having two columns Y and predicted_Y both are real valued features\n",
    "<ol>\n",
    "<li> Compute Mean Square Error </li>\n",
    "<li> Compute MAPE: https://www.youtube.com/watch?v=ly6ztgIkUxk</li>\n",
    "<li> Compute R^2 error: https://en.wikipedia.org/wiki/Coefficient_of_determination#Definitions </li>\n",
    "</ol>\n",
    "</pre>"
   ]
  },
  {
   "cell_type": "markdown",
   "metadata": {},
   "source": [
    "### Data D"
   ]
  },
  {
   "cell_type": "code",
   "execution_count": 15,
   "metadata": {},
   "outputs": [
    {
     "data": {
      "text/plain": [
       "Index(['y', 'pred'], dtype='object')"
      ]
     },
     "execution_count": 15,
     "metadata": {},
     "output_type": "execute_result"
    }
   ],
   "source": [
    "data_d=pd.read_csv(r\"C:\\Users\\anshi\\Downloads\\5_d.csv\")\n",
    "data_d.columns"
   ]
  },
  {
   "cell_type": "code",
   "execution_count": 16,
   "metadata": {},
   "outputs": [],
   "source": [
    "def mean_error(df):\n",
    "    difference=np.subtract(df.y, df.pred)\n",
    "    squared=np.square(difference)\n",
    "    mse=squared.mean()\n",
    "    return mse\n",
    "\n",
    "\n",
    "def mape(df):\n",
    "    difference=abs(np.subtract(df.y, df.pred))\n",
    "    x=(sum(difference))/(sum(df.y))\n",
    "    return x\n",
    "\n",
    "def rsquare(df):\n",
    "    m=df.y.mean()\n",
    "    difference=np.subtract(df.y, df.pred)\n",
    "    squared=np.square(difference)\n",
    "    difference_1=np.subtract(df.y, m)\n",
    "    squared_1=np.square(difference_1)\n",
    "    rsquare = 1-(sum(squared)/sum(squared_1))\n",
    "    return rsquare"
   ]
  },
  {
   "cell_type": "code",
   "execution_count": 17,
   "metadata": {},
   "outputs": [
    {
     "name": "stdout",
     "output_type": "stream",
     "text": [
      "0.9563582786990964\n"
     ]
    }
   ],
   "source": [
    "y=rsquare(data_d)\n",
    "print(y)"
   ]
  },
  {
   "cell_type": "code",
   "execution_count": 18,
   "metadata": {},
   "outputs": [
    {
     "name": "stdout",
     "output_type": "stream",
     "text": [
      "0.1291202994009687\n"
     ]
    }
   ],
   "source": [
    "y=mape(data_d)\n",
    "print(y)"
   ]
  },
  {
   "cell_type": "code",
   "execution_count": 19,
   "metadata": {},
   "outputs": [
    {
     "name": "stdout",
     "output_type": "stream",
     "text": [
      "177.16569974554707\n"
     ]
    }
   ],
   "source": [
    "y=mean_error(data_d)\n",
    "print(y)"
   ]
  }
 ],
 "metadata": {
  "colab": {
   "collapsed_sections": [],
   "name": "Copy of 5_Performance_metrics_Instructions.ipynb",
   "private_outputs": true,
   "provenance": [
    {
     "file_id": "1fvM2W2fJORKOxmje99ScLRJNdKYV2bFZ",
     "timestamp": 1633117010284
    }
   ]
  },
  "kernelspec": {
   "display_name": "Python 3",
   "language": "python",
   "name": "python3"
  },
  "language_info": {
   "codemirror_mode": {
    "name": "ipython",
    "version": 3
   },
   "file_extension": ".py",
   "mimetype": "text/x-python",
   "name": "python",
   "nbconvert_exporter": "python",
   "pygments_lexer": "ipython3",
   "version": "3.8.8"
  }
 },
 "nbformat": 4,
 "nbformat_minor": 1
}
