{
 "cells": [
  {
   "cell_type": "markdown",
   "metadata": {
    "id": "h9464I-uxLiw"
   },
   "source": [
    "# TFIDF"
   ]
  },
  {
   "cell_type": "markdown",
   "metadata": {
    "id": "IvLvmewlxLix"
   },
   "source": [
    "<font face='georgia'>\n",
    "    \n",
    "   <h4><strong>What does tf-idf mean?</strong></h4>\n",
    "\n",
    "   <p>    \n",
    "Tf-idf stands for <em>term frequency-inverse document frequency</em>, and the tf-idf weight is a weight often used in information retrieval and text mining. This weight is a statistical measure used to evaluate how important a word is to a document in a collection or corpus. The importance increases proportionally to the number of times a word appears in the document but is offset by the frequency of the word in the corpus. Variations of the tf-idf weighting scheme are often used by search engines as a central tool in scoring and ranking a document's relevance given a user query.\n",
    "</p>\n",
    "    \n",
    "   <p>\n",
    "One of the simplest ranking functions is computed by summing the tf-idf for each query term; many more sophisticated ranking functions are variants of this simple model.\n",
    "</p>\n",
    "    \n",
    "   <p>\n",
    "Tf-idf can be successfully used for stop-words filtering in various subject fields including text summarization and classification.\n",
    "</p>\n",
    "    \n",
    "</font>"
   ]
  },
  {
   "cell_type": "markdown",
   "metadata": {
    "id": "4XLaGFUMxLiy"
   },
   "source": [
    "<font face='georgia'>\n",
    "    <h4><strong>How to Compute:</strong></h4>\n",
    "\n",
    "Typically, the tf-idf weight is composed by two terms: the first computes the normalized Term Frequency (TF), aka. the number of times a word appears in a document, divided by the total number of words in that document; the second term is the Inverse Document Frequency (IDF), computed as the logarithm of the number of the documents in the corpus divided by the number of documents where the specific term appears.\n",
    "\n",
    " <ul>\n",
    "    <li>\n",
    "<strong>TF:</strong> Term Frequency, which measures how frequently a term occurs in a document. Since every document is different in length, it is possible that a term would appear much more times in long documents than shorter ones. Thus, the term frequency is often divided by the document length (aka. the total number of terms in the document) as a way of normalization: <br>\n",
    "\n",
    "$TF(t) = \\frac{\\text{Number of times term t appears in a document}}{\\text{Total number of terms in the document}}.$\n",
    "</li>\n",
    "<li>\n",
    "<strong>IDF:</strong> Inverse Document Frequency, which measures how important a term is. While computing TF, all terms are considered equally important. However it is known that certain terms, such as \"is\", \"of\", and \"that\", may appear a lot of times but have little importance. Thus we need to weigh down the frequent terms while scale up the rare ones, by computing the following: <br>\n",
    "\n",
    "$IDF(t) = \\log_{e}\\frac{\\text{Total  number of documents}} {\\text{Number of documents with term t in it}}.$\n",
    "for numerical stabiltiy we will be changing this formula little bit\n",
    "$IDF(t) = \\log_{e}\\frac{\\text{Total  number of documents}} {\\text{Number of documents with term t in it}+1}.$\n",
    "</li>\n",
    "</ul>\n",
    "\n",
    "<br>\n",
    "<h4><strong>Example</strong></h4>\n",
    "<p>\n",
    "\n",
    "Consider a document containing 100 words wherein the word cat appears 3 times. The term frequency (i.e., tf) for cat is then (3 / 100) = 0.03. Now, assume we have 10 million documents and the word cat appears in one thousand of these. Then, the inverse document frequency (i.e., idf) is calculated as log(10,000,000 / 1,000) = 4. Thus, the Tf-idf weight is the product of these quantities: 0.03 * 4 = 0.12.\n",
    "</p>\n",
    "</font>"
   ]
  },
  {
   "cell_type": "markdown",
   "metadata": {
    "id": "dg2ooa4DxLiz"
   },
   "source": [
    "## Task-1"
   ]
  },
  {
   "cell_type": "markdown",
   "metadata": {
    "id": "TAcTjhO8xLiz"
   },
   "source": [
    "<font face='georgia'>\n",
    "    <h4><strong>1. Build a TFIDF Vectorizer & compare its results with Sklearn:</strong></h4>\n",
    "\n",
    "<ul>\n",
    "    <li> As a part of this task you will be implementing TFIDF vectorizer on a collection of text documents.</li>\n",
    "    <br>\n",
    "    <li> You should compare the results of your own implementation of TFIDF vectorizer with that of sklearns implemenation TFIDF vectorizer.</li>\n",
    "    <br>\n",
    "    <li> Sklearn does few more tweaks in the implementation of its version of TFIDF vectorizer, so to replicate the exact results you would need to add following things to your custom implementation of tfidf vectorizer:\n",
    "       <ol>\n",
    "        <li> Sklearn has its vocabulary generated from idf sroted in alphabetical order</li>\n",
    "        <li> Sklearn formula of idf is different from the standard textbook formula. Here the constant <strong>\"1\"</strong> is added to the numerator and denominator of the idf as if an extra document was seen containing every term in the collection exactly once, which prevents zero divisions.\n",
    "            \n",
    " $IDF(t) = 1+\\log_{e}\\frac{1\\text{ }+\\text{ Total  number of documents in collection}} {1+\\text{Number of documents with term t in it}}.$\n",
    "        </li>\n",
    "        <li> Sklearn applies L2-normalization on its output matrix.</li>\n",
    "        <li> The final output of sklearn tfidf vectorizer is a sparse matrix.</li>\n",
    "    </ol>\n",
    "    <br>\n",
    "    <li>Steps to approach this task:\n",
    "    <ol>\n",
    "        <li> You would have to write both fit and transform methods for your custom implementation of tfidf vectorizer.</li>\n",
    "        <li> Print out the alphabetically sorted voacb after you fit your data and check if its the same as that of the feature names from sklearn tfidf vectorizer. </li>\n",
    "        <li> Print out the idf values from your implementation and check if its the same as that of sklearns tfidf vectorizer idf values. </li>\n",
    "        <li> Once you get your voacb and idf values to be same as that of sklearns implementation of tfidf vectorizer, proceed to the below steps. </li>\n",
    "        <li> Make sure the output of your implementation is a sparse matrix. Before generating the final output, you need to normalize your sparse matrix using L2 normalization. You can refer to this link https://scikit-learn.org/stable/modules/generated/sklearn.preprocessing.normalize.html </li>\n",
    "        <li> After completing the above steps, print the output of your custom implementation and compare it with sklearns implementation of tfidf vectorizer.</li>\n",
    "        <li> To check the output of a single document in your collection of documents,  you can convert the sparse matrix related only to that document into dense matrix and print it.</li>\n",
    "        </ol>\n",
    "    </li>\n",
    "    <br>\n",
    "   </ul>\n",
    "\n",
    "  <p> <font color=\"#e60000\"><strong>Note-1: </strong></font> All the necessary outputs of sklearns tfidf vectorizer have been provided as reference in this notebook, you can compare your outputs as mentioned in the above steps, with these outputs.<br>\n",
    "   <font color=\"#e60000\"><strong>Note-2: </strong></font> The output of your custom implementation and that of sklearns implementation would match only with the collection of document strings provided to you as reference in this notebook. It would not match for strings that contain capital letters or punctuations, etc, because sklearn version of tfidf vectorizer deals with such strings in a different way. To know further details about how sklearn tfidf vectorizer works with such string, you can always refer to its official documentation.<br>\n",
    "   <font color=\"#e60000\"><strong>Note-3: </strong></font> During this task, it would be helpful for you to debug the code you write with print statements wherever necessary. But when you are finally submitting the assignment, make sure your code is readable and try not to print things which are not part of this task.\n",
    "    </p>"
   ]
  },
  {
   "cell_type": "markdown",
   "metadata": {
    "id": "OnV82tg1xLi0"
   },
   "source": [
    "### Corpus"
   ]
  },
  {
   "cell_type": "code",
   "execution_count": 132,
   "metadata": {
    "executionInfo": {
     "elapsed": 928,
     "status": "ok",
     "timestamp": 1631953122116,
     "user": {
      "displayName": "Anshika Mungiya",
      "photoUrl": "https://lh3.googleusercontent.com/a-/AOh14Gi0qxKj5p44mApBf8BY8FMnqrCeiF1UKCby1ao_=s64",
      "userId": "11742751227912437013"
     },
     "user_tz": -330
    },
    "id": "bUsYm9wjxLi1"
   },
   "outputs": [],
   "source": [
    "## SkLearn# Collection of string documents\n",
    "\n",
    "corpus = [\n",
    "     'this is the first document',\n",
    "     'this document is the second document',\n",
    "     'and this is the third one',\n",
    "     'is this the first document',\n",
    "]"
   ]
  },
  {
   "cell_type": "markdown",
   "metadata": {
    "id": "eLwmFZfKxLi4"
   },
   "source": [
    "### SkLearn Implementation"
   ]
  },
  {
   "cell_type": "code",
   "execution_count": 133,
   "metadata": {
    "executionInfo": {
     "elapsed": 25,
     "status": "ok",
     "timestamp": 1631953122117,
     "user": {
      "displayName": "Anshika Mungiya",
      "photoUrl": "https://lh3.googleusercontent.com/a-/AOh14Gi0qxKj5p44mApBf8BY8FMnqrCeiF1UKCby1ao_=s64",
      "userId": "11742751227912437013"
     },
     "user_tz": -330
    },
    "id": "Np4dfQOkxLi4"
   },
   "outputs": [],
   "source": [
    "from sklearn.feature_extraction.text import TfidfVectorizer\n",
    "vectorizer = TfidfVectorizer()\n",
    "vectorizer.fit(corpus)\n",
    "skl_output = vectorizer.transform(corpus)"
   ]
  },
  {
   "cell_type": "code",
   "execution_count": 134,
   "metadata": {
    "colab": {
     "base_uri": "https://localhost:8080/"
    },
    "executionInfo": {
     "elapsed": 25,
     "status": "ok",
     "timestamp": 1631953122118,
     "user": {
      "displayName": "Anshika Mungiya",
      "photoUrl": "https://lh3.googleusercontent.com/a-/AOh14Gi0qxKj5p44mApBf8BY8FMnqrCeiF1UKCby1ao_=s64",
      "userId": "11742751227912437013"
     },
     "user_tz": -330
    },
    "id": "-7Om8YpYxLi6",
    "outputId": "02fc0ae5-ae93-4627-ca04-1ac5b4f4380b"
   },
   "outputs": [
    {
     "name": "stdout",
     "output_type": "stream",
     "text": [
      "['and', 'document', 'first', 'is', 'one', 'second', 'the', 'third', 'this']\n"
     ]
    }
   ],
   "source": [
    "# sklearn feature names, they are sorted in alphabetic order by default.\n",
    "\n",
    "print(vectorizer.get_feature_names())"
   ]
  },
  {
   "cell_type": "code",
   "execution_count": 135,
   "metadata": {
    "colab": {
     "base_uri": "https://localhost:8080/"
    },
    "executionInfo": {
     "elapsed": 21,
     "status": "ok",
     "timestamp": 1631953122118,
     "user": {
      "displayName": "Anshika Mungiya",
      "photoUrl": "https://lh3.googleusercontent.com/a-/AOh14Gi0qxKj5p44mApBf8BY8FMnqrCeiF1UKCby1ao_=s64",
      "userId": "11742751227912437013"
     },
     "user_tz": -330
    },
    "id": "dTKplK96xLi-",
    "outputId": "a5ce3693-9283-455a-87f8-cf068b6f605a"
   },
   "outputs": [
    {
     "name": "stdout",
     "output_type": "stream",
     "text": [
      "[1.91629073 1.22314355 1.51082562 1.         1.91629073 1.91629073\n",
      " 1.         1.91629073 1.        ]\n"
     ]
    }
   ],
   "source": [
    "# Here we will print the sklearn tfidf vectorizer idf values after applying the fit method\n",
    "# After using the fit function on the corpus the vocab has 9 words in it, and each has its idf value.\n",
    "\n",
    "print(vectorizer.idf_)"
   ]
  },
  {
   "cell_type": "code",
   "execution_count": 136,
   "metadata": {
    "colab": {
     "base_uri": "https://localhost:8080/"
    },
    "executionInfo": {
     "elapsed": 18,
     "status": "ok",
     "timestamp": 1631953122118,
     "user": {
      "displayName": "Anshika Mungiya",
      "photoUrl": "https://lh3.googleusercontent.com/a-/AOh14Gi0qxKj5p44mApBf8BY8FMnqrCeiF1UKCby1ao_=s64",
      "userId": "11742751227912437013"
     },
     "user_tz": -330
    },
    "id": "-CTiWHygxLjA",
    "outputId": "207ee955-85c6-4c9e-8d5d-04fa8e861f9f"
   },
   "outputs": [
    {
     "data": {
      "text/plain": [
       "(4, 9)"
      ]
     },
     "execution_count": 136,
     "metadata": {},
     "output_type": "execute_result"
    }
   ],
   "source": [
    "# shape of sklearn tfidf vectorizer output after applying transform method.\n",
    "\n",
    "skl_output.shape"
   ]
  },
  {
   "cell_type": "code",
   "execution_count": 137,
   "metadata": {
    "colab": {
     "base_uri": "https://localhost:8080/"
    },
    "executionInfo": {
     "elapsed": 15,
     "status": "ok",
     "timestamp": 1631953122118,
     "user": {
      "displayName": "Anshika Mungiya",
      "photoUrl": "https://lh3.googleusercontent.com/a-/AOh14Gi0qxKj5p44mApBf8BY8FMnqrCeiF1UKCby1ao_=s64",
      "userId": "11742751227912437013"
     },
     "user_tz": -330
    },
    "id": "bDKEpbA-xLjD",
    "outputId": "9b23cad5-e276-4489-f519-ec2b6a65485f"
   },
   "outputs": [
    {
     "name": "stdout",
     "output_type": "stream",
     "text": [
      "  (0, 8)\t0.38408524091481483\n",
      "  (0, 6)\t0.38408524091481483\n",
      "  (0, 3)\t0.38408524091481483\n",
      "  (0, 2)\t0.5802858236844359\n",
      "  (0, 1)\t0.46979138557992045\n",
      "  (1, 8)\t0.281088674033753\n",
      "  (1, 6)\t0.281088674033753\n",
      "  (1, 5)\t0.5386476208856763\n",
      "  (1, 3)\t0.281088674033753\n",
      "  (1, 1)\t0.6876235979836938\n",
      "  (2, 8)\t0.267103787642168\n",
      "  (2, 7)\t0.511848512707169\n",
      "  (2, 6)\t0.267103787642168\n",
      "  (2, 4)\t0.511848512707169\n",
      "  (2, 3)\t0.267103787642168\n",
      "  (2, 0)\t0.511848512707169\n",
      "  (3, 8)\t0.38408524091481483\n",
      "  (3, 6)\t0.38408524091481483\n",
      "  (3, 3)\t0.38408524091481483\n",
      "  (3, 2)\t0.5802858236844359\n",
      "  (3, 1)\t0.46979138557992045\n"
     ]
    }
   ],
   "source": [
    "# sklearn tfidf values for first line of the above corpus.\n",
    "# Here the output is a sparse matrix\n",
    "\n",
    "print(skl_output)"
   ]
  },
  {
   "cell_type": "code",
   "execution_count": 138,
   "metadata": {
    "colab": {
     "base_uri": "https://localhost:8080/"
    },
    "executionInfo": {
     "elapsed": 14,
     "status": "ok",
     "timestamp": 1631953122119,
     "user": {
      "displayName": "Anshika Mungiya",
      "photoUrl": "https://lh3.googleusercontent.com/a-/AOh14Gi0qxKj5p44mApBf8BY8FMnqrCeiF1UKCby1ao_=s64",
      "userId": "11742751227912437013"
     },
     "user_tz": -330
    },
    "id": "3QWo34hexLjF",
    "outputId": "b1b626a8-82a1-4fc0-d269-afeb792263ca"
   },
   "outputs": [
    {
     "name": "stdout",
     "output_type": "stream",
     "text": [
      "[[0.         0.46979139 0.58028582 0.38408524 0.         0.\n",
      "  0.38408524 0.         0.38408524]]\n"
     ]
    }
   ],
   "source": [
    "# sklearn tfidf values for first line of the above corpus.\n",
    "# To understand the output better, here we are converting the sparse output matrix to dense matrix and printing it.\n",
    "# Notice that this output is normalized using L2 normalization. sklearn does this by default.\n",
    "\n",
    "print(skl_output[0].toarray())"
   ]
  },
  {
   "cell_type": "markdown",
   "metadata": {
    "id": "k9UXj4CB-bD8"
   },
   "source": []
  },
  {
   "cell_type": "markdown",
   "metadata": {
    "id": "qfIwx5LzxLjI"
   },
   "source": [
    "### Your custom implementation\n",
    "Referred the code from https://stackoverflow.com/questions/60042735/how-to-build-a-tfidf-vectorizer-given-a-corpus-and-compare-its-results-using-skl and https://analyticsindiamag.com/hands-on-implementation-of-tf-idf-from-scratch-in-python/"
   ]
  },
  {
   "cell_type": "code",
   "execution_count": 139,
   "metadata": {
    "executionInfo": {
     "elapsed": 11,
     "status": "ok",
     "timestamp": 1631953122119,
     "user": {
      "displayName": "Anshika Mungiya",
      "photoUrl": "https://lh3.googleusercontent.com/a-/AOh14Gi0qxKj5p44mApBf8BY8FMnqrCeiF1UKCby1ao_=s64",
      "userId": "11742751227912437013"
     },
     "user_tz": -330
    },
    "id": "aiKrUjfI2IRr"
   },
   "outputs": [],
   "source": [
    " def IDF(dataset, unique_words):\n",
    "  IDF_dict={}\n",
    "  N=len(dataset)\n",
    "  for i in unique_words:\n",
    "    count=0;\n",
    "    for row in corpus:\n",
    "      if i in row.split():\n",
    "         count=count+1\n",
    "      IDF_dict[i]=round(1+(math.log((N+1)/(count+1))),8)\n",
    "  return IDF_dict"
   ]
  },
  {
   "cell_type": "code",
   "execution_count": 140,
   "metadata": {
    "colab": {
     "base_uri": "https://localhost:8080/"
    },
    "executionInfo": {
     "elapsed": 11,
     "status": "ok",
     "timestamp": 1631953122119,
     "user": {
      "displayName": "Anshika Mungiya",
      "photoUrl": "https://lh3.googleusercontent.com/a-/AOh14Gi0qxKj5p44mApBf8BY8FMnqrCeiF1UKCby1ao_=s64",
      "userId": "11742751227912437013"
     },
     "user_tz": -330
    },
    "id": "HjuCcJwXxLjJ",
    "outputId": "efbfc265-da07-4cb1-ac57-0ecdb15e9bfd"
   },
   "outputs": [
    {
     "name": "stdout",
     "output_type": "stream",
     "text": [
      "dict_keys(['and', 'document', 'first', 'is', 'one', 'second', 'the', 'third', 'this'])\n",
      "{'and': 1.91629073, 'document': 1.22314355, 'first': 1.51082562, 'is': 1.0, 'one': 1.91629073, 'second': 1.91629073, 'the': 1.0, 'third': 1.91629073, 'this': 1.0}\n"
     ]
    }
   ],
   "source": [
    "from collections import Counter\n",
    "from tqdm import tqdm\n",
    "from scipy.sparse import csr_matrix\n",
    "import math\n",
    "import operator\n",
    "from sklearn.preprocessing import normalize\n",
    "import numpy\n",
    "\n",
    "\n",
    "def fit(dataset):    \n",
    "    unique_words = set() # at first we will initialize an empty set\n",
    "    # check if its list type or not\n",
    "    if isinstance(dataset, (list,)):\n",
    "      for row in dataset: # for each review in the dataset\n",
    "        for word in row.split(\" \"): # for each word in the review. #split method converts a string into list of words\n",
    "          if len(word) < 2:\n",
    "            continue\n",
    "          unique_words.add(word)\n",
    "      unique_words = sorted(list(unique_words))\n",
    "      vocab = {j:i for i,j in enumerate(unique_words)}     \n",
    "      Idf_values = IDF(dataset,unique_words)\n",
    "    return vocab, Idf_values\n",
    "\n",
    "\n",
    "vocab, IDF=fit(corpus)\n",
    "print(vocab.keys())\n",
    "print(IDF)"
   ]
  },
  {
   "cell_type": "code",
   "execution_count": 141,
   "metadata": {
    "colab": {
     "base_uri": "https://localhost:8080/"
    },
    "executionInfo": {
     "elapsed": 9,
     "status": "ok",
     "timestamp": 1631953122119,
     "user": {
      "displayName": "Anshika Mungiya",
      "photoUrl": "https://lh3.googleusercontent.com/a-/AOh14Gi0qxKj5p44mApBf8BY8FMnqrCeiF1UKCby1ao_=s64",
      "userId": "11742751227912437013"
     },
     "user_tz": -330
    },
    "id": "OcW6Gc5nSOhW",
    "outputId": "48849bab-f43e-4c53-d575-efb3487ba9ff"
   },
   "outputs": [
    {
     "name": "stdout",
     "output_type": "stream",
     "text": [
      "  (0, 1)\t0.46979138558088085\n",
      "  (0, 2)\t0.5802858228626505\n",
      "  (0, 3)\t0.3840852413282814\n",
      "  (0, 6)\t0.3840852413282814\n",
      "  (0, 8)\t0.3840852413282814\n",
      "  (1, 1)\t0.687623597789329\n",
      "  (1, 3)\t0.2810886742563164\n",
      "  (1, 5)\t0.5386476207853688\n",
      "  (1, 6)\t0.2810886742563164\n",
      "  (1, 8)\t0.2810886742563164\n",
      "  (2, 0)\t0.5118485126000253\n",
      "  (2, 3)\t0.2671037878474866\n",
      "  (2, 4)\t0.5118485126000253\n",
      "  (2, 6)\t0.2671037878474866\n",
      "  (2, 7)\t0.5118485126000253\n",
      "  (2, 8)\t0.2671037878474866\n",
      "  (3, 1)\t0.46979138558088085\n",
      "  (3, 2)\t0.5802858228626505\n",
      "  (3, 3)\t0.3840852413282814\n",
      "  (3, 6)\t0.3840852413282814\n",
      "  (3, 8)\t0.3840852413282814\n"
     ]
    }
   ],
   "source": [
    "def transform(dataset,vocab,IDF_values):\n",
    "  row = []\n",
    "  col = []\n",
    "  values = []\n",
    "  for ibx, document in enumerate(dataset):\n",
    "    word_freq = dict(Counter(document.split()))\n",
    "    for word, freq in word_freq.items():\n",
    "      col_index = vocab.get(word,-1)\n",
    "      if col_index != -1:\n",
    "        if len(word)<2:\n",
    "          continue\n",
    "        col.append(col_index)\n",
    "        row.append(ibx)\n",
    "        tf = freq/float(len(document.split()))\n",
    "        values.append((tf) * (IDF_values.get(word)))\n",
    "  return normalize(csr_matrix( ((values),(row,col)), shape=(len(dataset),len(vocab))),norm='l2' )\n",
    "\n",
    "print(transform(corpus,vocab,IDF))"
   ]
  },
  {
   "cell_type": "markdown",
   "metadata": {
    "id": "MMxBmVZExLjK"
   },
   "source": [
    "## Task-2"
   ]
  },
  {
   "cell_type": "markdown",
   "metadata": {
    "id": "51j_OtqAxLjL"
   },
   "source": [
    "<font face='georgia'>\n",
    "    <h4><strong>2. Implement max features functionality:</strong></h4>\n",
    "\n",
    "<ul>\n",
    "    <li> As a part of this task you have to modify your fit and transform functions so that your vocab will contain only 50 terms with top idf scores.</li>\n",
    "    <br>\n",
    "    <li>This task is similar to your previous task, just that here your vocabulary is limited to only top 50 features names based on their idf values. Basically your output will have exactly 50 columns and the number of rows will depend on the number of documents you have in your corpus.</li>\n",
    "    <br>\n",
    "    <li>Here you will be give a pickle file, with file name <strong>cleaned_strings</strong>. You would have to load the corpus from this file and use it as input to your tfidf vectorizer.</li>\n",
    "    <br>\n",
    "    <li>Steps to approach this task:\n",
    "    <ol>\n",
    "        <li> You would have to write both fit and transform methods for your custom implementation of tfidf vectorizer, just like in the previous task. Additionally, here you have to limit the number of features generated to 50 as described above.</li>\n",
    "        <li> Now sort your vocab based in descending order of idf values and print out the words in the sorted voacb after you fit your data. Here you should be getting only 50 terms in your vocab. And make sure to print idf values for each term in your vocab. </li>\n",
    "        <li> Make sure the output of your implementation is a sparse matrix. Before generating the final output, you need to normalize your sparse matrix using L2 normalization. You can refer to this link https://scikit-learn.org/stable/modules/generated/sklearn.preprocessing.normalize.html </li>\n",
    "        <li> Now check the output of a single document in your collection of documents,  you can convert the sparse matrix related only to that document into dense matrix and print it. And this dense matrix should contain 1 row and 50 columns. </li>\n",
    "        </ol>\n",
    "    </li>\n",
    "    <br>\n",
    "   </ul>"
   ]
  },
  {
   "cell_type": "code",
   "execution_count": 149,
   "metadata": {
    "colab": {
     "base_uri": "https://localhost:8080/"
    },
    "executionInfo": {
     "elapsed": 618,
     "status": "ok",
     "timestamp": 1631953207177,
     "user": {
      "displayName": "Anshika Mungiya",
      "photoUrl": "https://lh3.googleusercontent.com/a-/AOh14Gi0qxKj5p44mApBf8BY8FMnqrCeiF1UKCby1ao_=s64",
      "userId": "11742751227912437013"
     },
     "user_tz": -330
    },
    "id": "XRJa-1kWrrMi",
    "outputId": "73dd9d67-1bd9-4e6c-b229-cf398d3f4eb1"
   },
   "outputs": [
    {
     "name": "stdout",
     "output_type": "stream",
     "text": [
      "Number of documents in docs =  746\n"
     ]
    }
   ],
   "source": [
    "from collections import Counter\n",
    "from tqdm import tqdm\n",
    "from scipy.sparse import csr_matrix\n",
    "import math\n",
    "import operator\n",
    "from sklearn.preprocessing import normalize\n",
    "import numpy\n",
    "import pickle\n",
    "with open('cleaned_strings', 'rb') as f:\n",
    "    docs = pickle.load(f)\n",
    "    \n",
    "# printing the length of the corpus loaded\n",
    "print(\"Number of documents in docs = \",len(docs))"
   ]
  },
  {
   "cell_type": "code",
   "execution_count": 150,
   "metadata": {
    "executionInfo": {
     "elapsed": 3,
     "status": "ok",
     "timestamp": 1631953209223,
     "user": {
      "displayName": "Anshika Mungiya",
      "photoUrl": "https://lh3.googleusercontent.com/a-/AOh14Gi0qxKj5p44mApBf8BY8FMnqrCeiF1UKCby1ao_=s64",
      "userId": "11742751227912437013"
     },
     "user_tz": -330
    },
    "id": "NHxPLlwNxLjL"
   },
   "outputs": [],
   "source": [
    "def IDF(dataset, unique_words):\n",
    "  IDF_dict={}\n",
    "  N=len(dataset)\n",
    "  for i in unique_words:\n",
    "    count=0;\n",
    "    for row in dataset:\n",
    "      if i in row.split():\n",
    "         count=count+1\n",
    "      IDF_dict[i]=round(1+(math.log((N+1)/(count+1))),8)\n",
    "  return IDF_dict"
   ]
  },
  {
   "cell_type": "code",
   "execution_count": 151,
   "metadata": {
    "colab": {
     "base_uri": "https://localhost:8080/"
    },
    "executionInfo": {
     "elapsed": 4449,
     "status": "ok",
     "timestamp": 1631953217749,
     "user": {
      "displayName": "Anshika Mungiya",
      "photoUrl": "https://lh3.googleusercontent.com/a-/AOh14Gi0qxKj5p44mApBf8BY8FMnqrCeiF1UKCby1ao_=s64",
      "userId": "11742751227912437013"
     },
     "user_tz": -330
    },
    "id": "ZULfoOIdxLjQ",
    "outputId": "db00a523-7898-412b-d174-8e3665f906f7"
   },
   "outputs": [
    {
     "name": "stdout",
     "output_type": "stream",
     "text": [
      "{'aailiyah': 6.922918, 'abandoned': 6.922918, 'abroad': 6.922918, 'abstruse': 6.922918, 'academy': 6.922918, 'accents': 6.922918, 'accessible': 6.922918, 'acclaimed': 6.922918, 'accolades': 6.922918, 'accurate': 6.922918, 'accurately': 6.922918, 'achille': 6.922918, 'ackerman': 6.922918, 'actions': 6.922918, 'adams': 6.922918, 'add': 6.922918, 'added': 6.922918, 'admins': 6.922918, 'admiration': 6.922918, 'admitted': 6.922918, 'adrift': 6.922918, 'adventure': 6.922918, 'aesthetically': 6.922918, 'affected': 6.922918, 'affleck': 6.922918, 'afternoon': 6.922918, 'aged': 6.922918, 'ages': 6.922918, 'agree': 6.922918, 'agreed': 6.922918, 'aimless': 6.922918, 'aired': 6.922918, 'akasha': 6.922918, 'akin': 6.922918, 'alert': 6.922918, 'alike': 6.922918, 'allison': 6.922918, 'allow': 6.922918, 'allowing': 6.922918, 'alongside': 6.922918, 'amateurish': 6.922918, 'amaze': 6.922918, 'amazed': 6.922918, 'amazingly': 6.922918, 'amusing': 6.922918, 'amust': 6.922918, 'anatomist': 6.922918, 'angel': 6.922918, 'angela': 6.922918, 'angelina': 6.922918}\n",
      "{'aailiyah': 0, 'abandoned': 1, 'abroad': 2, 'abstruse': 3, 'academy': 4, 'accents': 5, 'accessible': 6, 'acclaimed': 7, 'accolades': 8, 'accurate': 9, 'accurately': 10, 'achille': 11, 'ackerman': 12, 'actions': 13, 'adams': 14, 'add': 15, 'added': 16, 'admins': 17, 'admiration': 18, 'admitted': 19, 'adrift': 20, 'adventure': 21, 'aesthetically': 22, 'affected': 23, 'affleck': 24, 'afternoon': 25, 'aged': 26, 'ages': 27, 'agree': 28, 'agreed': 29, 'aimless': 30, 'aired': 31, 'akasha': 32, 'akin': 33, 'alert': 34, 'alike': 35, 'allison': 36, 'allow': 37, 'allowing': 38, 'alongside': 39, 'amateurish': 40, 'amaze': 41, 'amazed': 42, 'amazingly': 43, 'amusing': 44, 'amust': 45, 'anatomist': 46, 'angel': 47, 'angela': 48, 'angelina': 49}\n",
      "50\n"
     ]
    }
   ],
   "source": [
    "def fit(dataset):    \n",
    "    unique_words = set() # at first we will initialize an empty set\n",
    "    # check if its list type or not\n",
    "    if isinstance(dataset, (list,)):\n",
    "      for row in dataset: # for each review in the dataset\n",
    "        for word in row.split(\" \"): # for each word in the review. #split method converts a string into list of words\n",
    "          if len(word) < 2:\n",
    "            continue\n",
    "          unique_words.add(word)\n",
    "      unique_words = sorted(list(unique_words))\n",
    "      #vocab = {j:i for i,j in enumerate(unique_words)}     \n",
    "      Idf_values = IDF(dataset,unique_words)\n",
    "    Idf_values= dict(sorted(Idf_values.items(), key=lambda item:item[1],reverse=True))\n",
    "    Idf_values=dict(list(Idf_values.items())[:50])\n",
    "    vocab={j:i for i,j in enumerate(Idf_values.keys())} \n",
    "    return vocab, Idf_values\n",
    "\n",
    "\n",
    "vocab, IDF=fit(docs)\n",
    "print(IDF)\n",
    "print(vocab)\n",
    "print(len(IDF))"
   ]
  },
  {
   "cell_type": "code",
   "execution_count": 152,
   "metadata": {
    "colab": {
     "base_uri": "https://localhost:8080/"
    },
    "executionInfo": {
     "elapsed": 519,
     "status": "ok",
     "timestamp": 1631953223564,
     "user": {
      "displayName": "Anshika Mungiya",
      "photoUrl": "https://lh3.googleusercontent.com/a-/AOh14Gi0qxKj5p44mApBf8BY8FMnqrCeiF1UKCby1ao_=s64",
      "userId": "11742751227912437013"
     },
     "user_tz": -330
    },
    "id": "1_DJnnR3xLjR",
    "outputId": "0c4645b0-b791-4818-e65d-dd048ec3d6b5"
   },
   "outputs": [
    {
     "name": "stdout",
     "output_type": "stream",
     "text": [
      "  (0, 30)\t1.0\n",
      "  (68, 24)\t1.0\n",
      "  (72, 29)\t1.0\n",
      "  (74, 31)\t1.0\n",
      "  (119, 33)\t1.0\n",
      "  (135, 3)\t0.3779644730092272\n",
      "  (135, 10)\t0.3779644730092272\n",
      "  (135, 18)\t0.3779644730092272\n",
      "  (135, 20)\t0.3779644730092272\n",
      "  (135, 36)\t0.3779644730092272\n",
      "  (135, 40)\t0.3779644730092272\n",
      "  (135, 41)\t0.3779644730092272\n",
      "  (176, 49)\t1.0\n",
      "  (181, 13)\t1.0\n",
      "  (192, 21)\t1.0\n",
      "  (193, 23)\t1.0\n",
      "  (216, 2)\t1.0\n",
      "  (222, 47)\t1.0\n",
      "  (225, 19)\t1.0\n",
      "  (227, 17)\t1.0\n",
      "  (241, 44)\t1.0\n",
      "  (270, 1)\t1.0\n",
      "  (290, 25)\t1.0\n",
      "  (333, 26)\t1.0\n",
      "  (334, 15)\t1.0\n",
      "  (341, 43)\t1.0\n",
      "  (344, 42)\t1.0\n",
      "  (348, 8)\t1.0\n",
      "  (377, 37)\t1.0\n",
      "  (409, 5)\t1.0\n",
      "  (430, 39)\t1.0\n",
      "  (457, 45)\t1.0\n",
      "  (461, 4)\t1.0\n",
      "  (465, 38)\t1.0\n",
      "  (475, 35)\t1.0\n",
      "  (493, 6)\t1.0\n",
      "  (500, 48)\t1.0\n",
      "  (548, 0)\t0.7071067811865475\n",
      "  (548, 32)\t0.7071067811865475\n",
      "  (608, 14)\t1.0\n",
      "  (612, 11)\t1.0\n",
      "  (620, 46)\t1.0\n",
      "  (632, 7)\t1.0\n",
      "  (644, 12)\t0.7071067811865475\n",
      "  (644, 27)\t0.7071067811865475\n",
      "  (664, 28)\t1.0\n",
      "  (667, 22)\t1.0\n",
      "  (691, 34)\t1.0\n",
      "  (697, 9)\t1.0\n",
      "  (722, 16)\t1.0\n"
     ]
    }
   ],
   "source": [
    "def transform(dataset,vocab,IDF_values):\n",
    "  row = []\n",
    "  col = []\n",
    "  values = []\n",
    "  for ibx, document in enumerate(dataset):\n",
    "    word_freq = dict(Counter(document.split()))\n",
    "    for word, freq in word_freq.items():\n",
    "      col_index = vocab.get(word,-1)\n",
    "      if col_index != -1:\n",
    "        if len(word)<2:\n",
    "          continue\n",
    "        col.append(col_index)\n",
    "        row.append(ibx)\n",
    "        tf = freq/float(len(document.split()))\n",
    "        values.append((tf) * (IDF_values.get(word)))\n",
    "  return normalize(csr_matrix( ((values),(row,col)), shape=(len(dataset),len(vocab))),norm='l2' )\n",
    "output=transform(docs,vocab,IDF)\n",
    "print(output)"
   ]
  }
 ],
 "metadata": {
  "colab": {
   "collapsed_sections": [],
   "name": "CodeHere.ipynb",
   "provenance": []
  },
  "kernelspec": {
   "display_name": "Python 3",
   "language": "python",
   "name": "python3"
  },
  "language_info": {
   "codemirror_mode": {
    "name": "ipython",
    "version": 3
   },
   "file_extension": ".py",
   "mimetype": "text/x-python",
   "name": "python",
   "nbconvert_exporter": "python",
   "pygments_lexer": "ipython3",
   "version": "3.8.8"
  }
 },
 "nbformat": 4,
 "nbformat_minor": 1
}
